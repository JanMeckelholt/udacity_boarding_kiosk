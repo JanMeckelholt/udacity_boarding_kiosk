{
 "cells": [
  {
   "cell_type": "code",
   "id": "initial_id",
   "metadata": {
    "collapsed": true,
    "ExecuteTime": {
     "end_time": "2025-07-17T14:40:54.318641Z",
     "start_time": "2025-07-17T14:40:54.184518Z"
    }
   },
   "source": "! source ../venv/bin/activate",
   "outputs": [],
   "execution_count": 206
  },
  {
   "metadata": {
    "ExecuteTime": {
     "end_time": "2025-07-17T14:40:54.466460Z",
     "start_time": "2025-07-17T14:40:54.335644Z"
    }
   },
   "cell_type": "code",
   "source": "! which python",
   "id": "c289ab845ec604aa",
   "outputs": [
    {
     "name": "stdout",
     "output_type": "stream",
     "text": [
      "/Users/JMECKEL/development/projects/python/udacity_boarding_kiosk/venv/bin/python\r\n"
     ]
    }
   ],
   "execution_count": 207
  },
  {
   "metadata": {
    "ExecuteTime": {
     "end_time": "2025-07-17T14:40:54.485709Z",
     "start_time": "2025-07-17T14:40:54.483592Z"
    }
   },
   "cell_type": "code",
   "source": [
    "import sys\n",
    "print(sys.executable)"
   ],
   "id": "be29db837852a54e",
   "outputs": [
    {
     "name": "stdout",
     "output_type": "stream",
     "text": [
      "/Users/JMECKEL/development/projects/python/udacity_boarding_kiosk/venv/bin/python\n"
     ]
    }
   ],
   "execution_count": 208
  },
  {
   "metadata": {
    "ExecuteTime": {
     "end_time": "2025-07-17T14:40:54.505590Z",
     "start_time": "2025-07-17T14:40:54.503916Z"
    }
   },
   "cell_type": "code",
   "source": [
    "\n",
    "import json\n",
    "import pandas as pd\n",
    "import os"
   ],
   "id": "22d2fc4fd00b7b31",
   "outputs": [],
   "execution_count": 209
  },
  {
   "metadata": {
    "ExecuteTime": {
     "end_time": "2025-07-17T14:40:54.520582Z",
     "start_time": "2025-07-17T14:40:54.518912Z"
    }
   },
   "cell_type": "code",
   "source": "manifest_file = \"../starter/flight-manifest-csv/FlightManifest_withDoB.csv\"",
   "id": "68a6732200a81a67",
   "outputs": [],
   "execution_count": 210
  },
  {
   "metadata": {
    "ExecuteTime": {
     "end_time": "2025-07-17T14:40:54.538236Z",
     "start_time": "2025-07-17T14:40:54.532970Z"
    }
   },
   "cell_type": "code",
   "source": [
    "df = pd.read_csv(manifest_file)\n",
    "df['DoBValidation'] = False\n",
    "df['NameValidation'] = False\n",
    "df['BoardingPassValidation'] = False\n",
    "print(df)"
   ],
   "id": "d39a229eb0964edc",
   "outputs": [
    {
     "name": "stdout",
     "output_type": "stream",
     "text": [
      "   Passanger Name Carrier   Flight No.     Class           From       To  \\\n",
      "0    Sameer Kumar       UA         234   Economy  San Francisco  Chicago   \n",
      "1  Radha S. Kumar       UA         234   Economy  San Francisco  Chicago   \n",
      "2      James Webb       UA         234  Business  San Francisco  Chicago   \n",
      "3    Libby Herold       UA         234  Business  San Francisco  Chicago   \n",
      "4   James Jackson       UA         234   Economy  San Francisco  Chicago   \n",
      "5  Avkash Chauhan       UA         234   Economy  San Francisco  Chicago   \n",
      "\n",
      "             Date Baggage Seat Gate Boarding Time  Ticket No. Date of Birth  \\\n",
      "0  April 20, 2022     YES  34A   G1  10:00 AM PST    34236746    1990-01-25   \n",
      "1  April 20, 2022     YES  34B   G1  10:00 AM PST    34236747    1970-12-15   \n",
      "2  April 20, 2022      No   1A   G1  10:00 AM PST    34236748    1970-12-15   \n",
      "3  April 20, 2022      No   3D   G1  10:00 AM PST    34236749    1996-02-10   \n",
      "4  April 20, 2022     YES  25B   G1  10:00 AM PST    34236750    1956-10-12   \n",
      "5  April 20, 2022      No  20A   G1  10:00 AM PST    34236751    1970-12-15   \n",
      "\n",
      "   DoBValidation  NameValidation  BoardingPassValidation  \n",
      "0          False           False                   False  \n",
      "1          False           False                   False  \n",
      "2          False           False                   False  \n",
      "3          False           False                   False  \n",
      "4          False           False                   False  \n",
      "5          False           False                   False  \n"
     ]
    }
   ],
   "execution_count": 211
  },
  {
   "metadata": {
    "ExecuteTime": {
     "end_time": "2025-07-17T14:40:54.556407Z",
     "start_time": "2025-07-17T14:40:54.548232Z"
    }
   },
   "cell_type": "code",
   "source": [
    "for idx, row in df.iterrows():\n",
    "    passanger_name = row['Passanger Name']\n",
    "    last_name = passanger_name.split()[-1].strip().strip('.')  # Assuming last name is the last part of the passenger name\n",
    "    first_name = ' '.join(passanger_name.split()[:-1]).strip().strip('.')\n",
    "    print(f\"First Name: {first_name}, Last Name: {last_name}\")\n",
    "    id_file_path = f\"./results/id_{first_name}_{last_name}.json\"\n",
    "    if not os.path.exists(id_file_path):\n",
    "        print(f\"File {id_file_path} does not exist.\")\n",
    "        df.at[idx, 'DoBValidation'] = False\n",
    "    else:\n",
    "        with open(id_file_path, 'r') as f:\n",
    "            data_from_id = json.load(f)\n",
    "            if data_from_id['first_name'] != first_name:\n",
    "                print(f\"\\nFirst name {data_from_id['first_name']} does not match expected {first_name}\")\n",
    "                df.at[idx, 'NameValidation'] = False\n",
    "            else:\n",
    "                if data_from_id['last_name'] != last_name:\n",
    "                    print(f\"Last name {data_from_id['last_name']} does not match expected {last_name}\")\n",
    "                    df.at[idx, 'NameValidation'] = False\n",
    "                else:\n",
    "                    df.at[idx, 'NameValidation'] = True\n",
    "            if row.get(\"Date of Birth\") == data_from_id['dob']:\n",
    "                df.at[idx, 'DoBValidation'] = True\n",
    "            else:\n",
    "                print(f\"Date of Birth {data_from_id['dob']} does not match expected {row['Date of Birth']}\")\n",
    "                df.at[idx, 'DoBValidation'] = False\n",
    "\n",
    "    boarding_pass_file_path = f\"./results/boarding_pass_{first_name}_{last_name}.json\"\n",
    "    if not os.path.exists(boarding_pass_file_path):\n",
    "        print(f\"File {boarding_pass_file_path} does not exist\")\n",
    "        df.at[idx, 'BoardingPassValidation'] = False\n",
    "    else:\n",
    "        with open(boarding_pass_file_path, 'r') as f:\n",
    "            data_from_boarding_pass = json.load(f)\n",
    "            if df.loc[idx, 'NameValidation'] and first_name == data_from_boarding_pass['first_name'] and last_name == data_from_boarding_pass['last_name']:\n",
    "                df.at[idx, 'NameValidation'] = True\n",
    "            else:\n",
    "                print(f\"Name on boarding pass {data_from_boarding_pass['first_name']} {data_from_boarding_pass['last_name']} does not match expected {first_name} {last_name}\")\n",
    "                df.at[idx, 'NameValidation'] = False\n",
    "            if row.get(\"From\") != data_from_boarding_pass['from']:\n",
    "                df.at[idx, 'BoardingPassValidation'] = False\n",
    "                print(f\"From on boarding pass {data_from_boarding_pass['from']} does not match expected {row.get('From')}\")\n",
    "                print(\"------------------------\")\n",
    "                continue\n",
    "            if row.get(\"To\") != data_from_boarding_pass['to']:\n",
    "                df.at[idx, 'BoardingPassValidation'] = False\n",
    "                print(f\"To on boarding pass {data_from_boarding_pass['to']} does not match expected {row.get('To')}\")\n",
    "                print(\"------------------------\")\n",
    "                continue\n",
    "            if row.get(\"Gate\") != data_from_boarding_pass['gate']:\n",
    "                df.at[idx, 'BoardingPassValidation'] = False\n",
    "                print(f\"Gate on boarding pass {data_from_boarding_pass['gate']} does not match expected {row.get('Gate')}\")\n",
    "                print(\"------------------------\")\n",
    "                continue\n",
    "            if str(row.get(\"Flight No.\")).strip() != str(data_from_boarding_pass['fno']).strip():\n",
    "                df.at[idx, 'BoardingPassValidation'] = False\n",
    "                print(f\"Flight No. on boarding pass {data_from_boarding_pass['fno']} does not match expected {row.get('Flight No.')}\")\n",
    "                continue\n",
    "            if row.get(\"Seat\") != data_from_boarding_pass['sno']:\n",
    "                df.at[idx, 'BoardingPassValidation'] = False\n",
    "                print(f\"Seat on boarding pass {data_from_boarding_pass['sno']} does not match expected {row.get('Seat')}\")\n",
    "                print(\"------------------------\")\n",
    "                continue\n",
    "            if row.get(\"Carrier \") != data_from_boarding_pass['carrier']:\n",
    "                df.at[idx, 'BoardingPassValidation'] = False\n",
    "                print(f\"Carrier on boarding pass {data_from_boarding_pass['carrier']} does not match expected {row.get('Carrier ')}\")\n",
    "                print(\"------------------------\")\n",
    "                continue\n",
    "            if row.get(\"Class\")[0] != data_from_boarding_pass['class'][0]:\n",
    "                df.at[idx, 'BoardingPassValidation'] = False\n",
    "                print(f\"Class on boarding pass {data_from_boarding_pass['class']} does not match expected {row.get('Class')}\")\n",
    "                print(\"------------------------\")\n",
    "                continue\n",
    "            if row.get(\"Date\") != data_from_boarding_pass['date']:\n",
    "                df.at[idx, 'BoardingPassValidation'] = False\n",
    "                print(f\"Date on boarding pass {data_from_boarding_pass['date']} does not match expected {row.get('Date')}\")\n",
    "                print(\"------------------------\")\n",
    "                continue\n",
    "            df.at[idx, 'BoardingPassValidation'] = True\n",
    "            print(f\"All Boarding-Pass validations passed for {first_name} {last_name}\")\n",
    "    print(\"------------------------\")"
   ],
   "id": "9f95485f9edb0ee4",
   "outputs": [
    {
     "name": "stdout",
     "output_type": "stream",
     "text": [
      "First Name: Sameer, Last Name: Kumar\n",
      "All Boarding-Pass validations passed for Sameer Kumar\n",
      "------------------------\n",
      "First Name: Radha S, Last Name: Kumar\n",
      "File ./results/id_Radha S_Kumar.json does not exist.\n",
      "Name on boarding pass Radha S Kumar does not match expected Radha S Kumar\n",
      "All Boarding-Pass validations passed for Radha S Kumar\n",
      "------------------------\n",
      "First Name: James, Last Name: Webb\n",
      "All Boarding-Pass validations passed for James Webb\n",
      "------------------------\n",
      "First Name: Libby, Last Name: Herold\n",
      "All Boarding-Pass validations passed for Libby Herold\n",
      "------------------------\n",
      "First Name: James, Last Name: Jackson\n",
      "All Boarding-Pass validations passed for James Jackson\n",
      "------------------------\n",
      "First Name: Avkash, Last Name: Chauhan\n",
      "File ./results/id_Avkash_Chauhan.json does not exist.\n",
      "Name on boarding pass Avkash Chauhan does not match expected Avkash Chauhan\n",
      "All Boarding-Pass validations passed for Avkash Chauhan\n",
      "------------------------\n"
     ]
    }
   ],
   "execution_count": 212
  },
  {
   "metadata": {
    "ExecuteTime": {
     "end_time": "2025-07-17T14:40:54.575681Z",
     "start_time": "2025-07-17T14:40:54.572711Z"
    }
   },
   "cell_type": "code",
   "source": "print(df)",
   "id": "ed080a4c9263ff5d",
   "outputs": [
    {
     "name": "stdout",
     "output_type": "stream",
     "text": [
      "   Passanger Name Carrier   Flight No.     Class           From       To  \\\n",
      "0    Sameer Kumar       UA         234   Economy  San Francisco  Chicago   \n",
      "1  Radha S. Kumar       UA         234   Economy  San Francisco  Chicago   \n",
      "2      James Webb       UA         234  Business  San Francisco  Chicago   \n",
      "3    Libby Herold       UA         234  Business  San Francisco  Chicago   \n",
      "4   James Jackson       UA         234   Economy  San Francisco  Chicago   \n",
      "5  Avkash Chauhan       UA         234   Economy  San Francisco  Chicago   \n",
      "\n",
      "             Date Baggage Seat Gate Boarding Time  Ticket No. Date of Birth  \\\n",
      "0  April 20, 2022     YES  34A   G1  10:00 AM PST    34236746    1990-01-25   \n",
      "1  April 20, 2022     YES  34B   G1  10:00 AM PST    34236747    1970-12-15   \n",
      "2  April 20, 2022      No   1A   G1  10:00 AM PST    34236748    1970-12-15   \n",
      "3  April 20, 2022      No   3D   G1  10:00 AM PST    34236749    1996-02-10   \n",
      "4  April 20, 2022     YES  25B   G1  10:00 AM PST    34236750    1956-10-12   \n",
      "5  April 20, 2022      No  20A   G1  10:00 AM PST    34236751    1970-12-15   \n",
      "\n",
      "   DoBValidation  NameValidation  BoardingPassValidation  \n",
      "0           True            True                    True  \n",
      "1          False           False                    True  \n",
      "2           True            True                    True  \n",
      "3           True            True                    True  \n",
      "4           True            True                    True  \n",
      "5          False           False                    True  \n"
     ]
    }
   ],
   "execution_count": 213
  }
 ],
 "metadata": {
  "kernelspec": {
   "display_name": "Python 3 (ipykernel)",
   "language": "python",
   "name": "python3"
  },
  "language_info": {
   "codemirror_mode": {
    "name": "ipython",
    "version": 2
   },
   "file_extension": ".py",
   "mimetype": "text/x-python",
   "name": "python",
   "nbconvert_exporter": "python",
   "pygments_lexer": "ipython2",
   "version": "2.7.6"
  }
 },
 "nbformat": 4,
 "nbformat_minor": 5
}
