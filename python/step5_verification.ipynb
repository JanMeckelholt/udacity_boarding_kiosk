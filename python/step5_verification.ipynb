{
 "cells": [
  {
   "cell_type": "code",
   "id": "initial_id",
   "metadata": {
    "collapsed": true,
    "ExecuteTime": {
     "end_time": "2025-07-17T12:47:00.857211Z",
     "start_time": "2025-07-17T12:47:00.713449Z"
    }
   },
   "source": "! source ../venv/bin/activate",
   "outputs": [],
   "execution_count": 64
  },
  {
   "metadata": {
    "ExecuteTime": {
     "end_time": "2025-07-17T12:47:00.996754Z",
     "start_time": "2025-07-17T12:47:00.871445Z"
    }
   },
   "cell_type": "code",
   "source": "! which python",
   "id": "c289ab845ec604aa",
   "outputs": [
    {
     "name": "stdout",
     "output_type": "stream",
     "text": [
      "/Users/JMECKEL/development/projects/python/udacity_boarding_kiosk/venv/bin/python\r\n"
     ]
    }
   ],
   "execution_count": 65
  },
  {
   "metadata": {
    "ExecuteTime": {
     "end_time": "2025-07-17T12:47:01.008654Z",
     "start_time": "2025-07-17T12:47:01.006745Z"
    }
   },
   "cell_type": "code",
   "source": [
    "import sys\n",
    "print(sys.executable)"
   ],
   "id": "be29db837852a54e",
   "outputs": [
    {
     "name": "stdout",
     "output_type": "stream",
     "text": [
      "/Users/JMECKEL/development/projects/python/udacity_boarding_kiosk/venv/bin/python\n"
     ]
    }
   ],
   "execution_count": 66
  },
  {
   "metadata": {
    "ExecuteTime": {
     "end_time": "2025-07-17T12:47:01.015568Z",
     "start_time": "2025-07-17T12:47:01.013768Z"
    }
   },
   "cell_type": "code",
   "source": [
    "\n",
    "import json\n",
    "import pandas as pd\n",
    "import sys"
   ],
   "id": "22d2fc4fd00b7b31",
   "outputs": [],
   "execution_count": 67
  },
  {
   "metadata": {
    "ExecuteTime": {
     "end_time": "2025-07-17T12:47:01.024449Z",
     "start_time": "2025-07-17T12:47:01.022587Z"
    }
   },
   "cell_type": "code",
   "source": "manifest_file = \"../starter/flight-manifest-csv/FlightManifest_withDoB.csv\"",
   "id": "68a6732200a81a67",
   "outputs": [],
   "execution_count": 68
  },
  {
   "metadata": {
    "ExecuteTime": {
     "end_time": "2025-07-17T12:47:01.052238Z",
     "start_time": "2025-07-17T12:47:01.045250Z"
    }
   },
   "cell_type": "code",
   "source": [
    "df = pd.read_csv(manifest_file)\n",
    "df['DoBValidation'] = False\n",
    "df['NameValidation'] = False\n",
    "df['BoardingPassValidation'] = False\n",
    "print(df)"
   ],
   "id": "d39a229eb0964edc",
   "outputs": [
    {
     "name": "stdout",
     "output_type": "stream",
     "text": [
      "   Passanger Name Carrier   Flight No.     Class           From       To  \\\n",
      "0    Sameer Kumar       UA         234   Economy  San Francisco  Chicago   \n",
      "1  Radha S. Kumar       UA         234   Economy  San Francisco  Chicago   \n",
      "2      James Webb       UA         234  Business  San Francisco  Chicago   \n",
      "3    Libby Herold       UA         234  Business  San Francisco  Chicago   \n",
      "4   James Jackson       UA         234   Economy  San Francisco  Chicago   \n",
      "5  Avkash Chauhan       UA         234   Economy  San Francisco  Chicago   \n",
      "\n",
      "             Date Baggage Seat Gate Boarding Time  Ticket No. Date of Birth  \\\n",
      "0  April 20, 2022     YES  34A   G1  10:00 AM PST    34236746    1970-12-15   \n",
      "1  April 20, 2022     YES  34B   G1  10:00 AM PST    34236747    1970-12-15   \n",
      "2  April 20, 2022      No   1A   G1  10:00 AM PST    34236748    1970-12-15   \n",
      "3  April 20, 2022      No   3D   G1  10:00 AM PST    34236749    1970-12-15   \n",
      "4  April 20, 2022     YES  25B   G1  10:00 AM PST    34236750    1970-12-15   \n",
      "5  April 20, 2022      No  20A   G1  10:00 AM PST    34236751    1970-12-15   \n",
      "\n",
      "   DoBValidation  NameValidation  BoardingPassValidation  \n",
      "0          False           False                   False  \n",
      "1          False           False                   False  \n",
      "2          False           False                   False  \n",
      "3          False           False                   False  \n",
      "4          False           False                   False  \n",
      "5          False           False                   False  \n"
     ]
    }
   ],
   "execution_count": 69
  },
  {
   "metadata": {
    "ExecuteTime": {
     "end_time": "2025-07-17T12:47:01.070157Z",
     "start_time": "2025-07-17T12:47:01.067273Z"
    }
   },
   "cell_type": "code",
   "source": [
    "with open('./results/id.json', 'r') as f:\n",
    "    data_from_id = json.load(f)\n",
    "print(f\"Data from Id:\\n{data_from_id}\")"
   ],
   "id": "f32d1cd7b4f37be7",
   "outputs": [
    {
     "name": "stdout",
     "output_type": "stream",
     "text": [
      "Data from Id:\n",
      "{'first_name': 'James', 'last_name': 'Webb', 'dob': '1970-12-15'}\n"
     ]
    }
   ],
   "execution_count": 70
  },
  {
   "metadata": {
    "ExecuteTime": {
     "end_time": "2025-07-17T12:47:01.091734Z",
     "start_time": "2025-07-17T12:47:01.089677Z"
    }
   },
   "cell_type": "code",
   "source": [
    "with open('./results/boarding_pass.json', 'r') as f:\n",
    "    data_from_boarding_pass = json.load(f)\n",
    "print(f\"Data from Boarding-Pass:\\n{data_from_boarding_pass}\")\n"
   ],
   "id": "b43a37a5bf35cc22",
   "outputs": [
    {
     "name": "stdout",
     "output_type": "stream",
     "text": [
      "Data from Boarding-Pass:\n",
      "{'first_name': 'James', 'last_name': 'Webb', 'from': 'San Francisco', 'to': 'Chicago', 'gate': 'G1', 'fno': '234', 'sno': '1A', 'carrier': 'UA', 'class': 'B', 'date': 'April 20, 2022'}\n"
     ]
    }
   ],
   "execution_count": 71
  },
  {
   "metadata": {
    "ExecuteTime": {
     "end_time": "2025-07-17T12:47:01.106846Z",
     "start_time": "2025-07-17T12:47:01.104791Z"
    }
   },
   "cell_type": "code",
   "source": [
    "first_name = data_from_id['first_name']\n",
    "last_name = data_from_id['last_name']"
   ],
   "id": "d4863fcdc4d036d5",
   "outputs": [],
   "execution_count": 72
  },
  {
   "metadata": {
    "ExecuteTime": {
     "end_time": "2025-07-17T12:47:01.119539Z",
     "start_time": "2025-07-17T12:47:01.117743Z"
    }
   },
   "cell_type": "code",
   "source": [
    "if first_name != data_from_boarding_pass['first_name']:\n",
    "    print(\"First Name on ID does not match Boarding Pass\")\n",
    "    exit(1)"
   ],
   "id": "1caabba05ba431b4",
   "outputs": [],
   "execution_count": 73
  },
  {
   "metadata": {
    "ExecuteTime": {
     "end_time": "2025-07-17T12:47:01.131222Z",
     "start_time": "2025-07-17T12:47:01.129459Z"
    }
   },
   "cell_type": "code",
   "source": [
    "if last_name != data_from_boarding_pass['last_name']:\n",
    "    print(\"Last Name on ID does not match Boarding Pass\")\n",
    "    exit(1)"
   ],
   "id": "10ab0d8094107704",
   "outputs": [],
   "execution_count": 74
  },
  {
   "metadata": {
    "ExecuteTime": {
     "end_time": "2025-07-17T12:47:01.146087Z",
     "start_time": "2025-07-17T12:47:01.141214Z"
    }
   },
   "cell_type": "code",
   "source": [
    "matching_rows = df[(df['Passanger Name'] == f\"{first_name} {last_name}\")]\n",
    "\n",
    "if matching_rows.empty:\n",
    "    print(\"No matching rows found in the manifest.\")\n",
    "    exit(1)\n",
    "else:\n",
    "    first_row = matching_rows.iloc[0]\n",
    "    print(first_row)\n",
    "    df.loc[matching_rows.index[0] , 'NameValidation'] = True\n",
    "    print(f\"\\n\\b{df}\")"
   ],
   "id": "e3142c665b519827",
   "outputs": [
    {
     "name": "stdout",
     "output_type": "stream",
     "text": [
      "Passanger Name                James Webb\n",
      "Carrier                               UA\n",
      "Flight No.                           234\n",
      "Class                           Business\n",
      "From                       San Francisco\n",
      "To                               Chicago\n",
      "Date                      April 20, 2022\n",
      "Baggage                               No\n",
      "Seat                                  1A\n",
      "Gate                                  G1\n",
      "Boarding Time               10:00 AM PST\n",
      "Ticket No.                      34236748\n",
      "Date of Birth                 1970-12-15\n",
      "DoBValidation                      False\n",
      "NameValidation                     False\n",
      "BoardingPassValidation             False\n",
      "Name: 2, dtype: object\n",
      "\n",
      "   Passanger Name Carrier   Flight No.     Class           From       To  \\\n",
      "0    Sameer Kumar       UA         234   Economy  San Francisco  Chicago   \n",
      "1  Radha S. Kumar       UA         234   Economy  San Francisco  Chicago   \n",
      "2      James Webb       UA         234  Business  San Francisco  Chicago   \n",
      "3    Libby Herold       UA         234  Business  San Francisco  Chicago   \n",
      "4   James Jackson       UA         234   Economy  San Francisco  Chicago   \n",
      "5  Avkash Chauhan       UA         234   Economy  San Francisco  Chicago   \n",
      "\n",
      "             Date Baggage Seat Gate Boarding Time  Ticket No. Date of Birth  \\\n",
      "0  April 20, 2022     YES  34A   G1  10:00 AM PST    34236746    1970-12-15   \n",
      "1  April 20, 2022     YES  34B   G1  10:00 AM PST    34236747    1970-12-15   \n",
      "2  April 20, 2022      No   1A   G1  10:00 AM PST    34236748    1970-12-15   \n",
      "3  April 20, 2022      No   3D   G1  10:00 AM PST    34236749    1970-12-15   \n",
      "4  April 20, 2022     YES  25B   G1  10:00 AM PST    34236750    1970-12-15   \n",
      "5  April 20, 2022      No  20A   G1  10:00 AM PST    34236751    1970-12-15   \n",
      "\n",
      "   DoBValidation  NameValidation  BoardingPassValidation  \n",
      "0          False           False                   False  \n",
      "1          False           False                   False  \n",
      "2          False            True                   False  \n",
      "3          False           False                   False  \n",
      "4          False           False                   False  \n",
      "5          False           False                   False  \n"
     ]
    }
   ],
   "execution_count": 75
  },
  {
   "metadata": {
    "ExecuteTime": {
     "end_time": "2025-07-17T12:47:01.160326Z",
     "start_time": "2025-07-17T12:47:01.155243Z"
    }
   },
   "cell_type": "code",
   "source": [
    "if first_row.get(\"Date of Birth\") == data_from_id['dob']:\n",
    "    print(\"Date of Birth matches\")\n",
    "    df.loc[matching_rows.index[0], 'DoBValidation'] = True\n",
    "    print(f\"\\n\\b{df}\")\n",
    "else:\n",
    "    print(\"Date of Birth does not match\")\n",
    "    exit(1)"
   ],
   "id": "62e773610378be6d",
   "outputs": [
    {
     "name": "stdout",
     "output_type": "stream",
     "text": [
      "Date of Birth matches\n",
      "\n",
      "   Passanger Name Carrier   Flight No.     Class           From       To  \\\n",
      "0    Sameer Kumar       UA         234   Economy  San Francisco  Chicago   \n",
      "1  Radha S. Kumar       UA         234   Economy  San Francisco  Chicago   \n",
      "2      James Webb       UA         234  Business  San Francisco  Chicago   \n",
      "3    Libby Herold       UA         234  Business  San Francisco  Chicago   \n",
      "4   James Jackson       UA         234   Economy  San Francisco  Chicago   \n",
      "5  Avkash Chauhan       UA         234   Economy  San Francisco  Chicago   \n",
      "\n",
      "             Date Baggage Seat Gate Boarding Time  Ticket No. Date of Birth  \\\n",
      "0  April 20, 2022     YES  34A   G1  10:00 AM PST    34236746    1970-12-15   \n",
      "1  April 20, 2022     YES  34B   G1  10:00 AM PST    34236747    1970-12-15   \n",
      "2  April 20, 2022      No   1A   G1  10:00 AM PST    34236748    1970-12-15   \n",
      "3  April 20, 2022      No   3D   G1  10:00 AM PST    34236749    1970-12-15   \n",
      "4  April 20, 2022     YES  25B   G1  10:00 AM PST    34236750    1970-12-15   \n",
      "5  April 20, 2022      No  20A   G1  10:00 AM PST    34236751    1970-12-15   \n",
      "\n",
      "   DoBValidation  NameValidation  BoardingPassValidation  \n",
      "0          False           False                   False  \n",
      "1          False           False                   False  \n",
      "2           True            True                   False  \n",
      "3          False           False                   False  \n",
      "4          False           False                   False  \n",
      "5          False           False                   False  \n"
     ]
    }
   ],
   "execution_count": 76
  }
 ],
 "metadata": {
  "kernelspec": {
   "display_name": "Python 3 (ipykernel)",
   "language": "python",
   "name": "python3"
  },
  "language_info": {
   "codemirror_mode": {
    "name": "ipython",
    "version": 2
   },
   "file_extension": ".py",
   "mimetype": "text/x-python",
   "name": "python",
   "nbconvert_exporter": "python",
   "pygments_lexer": "ipython2",
   "version": "2.7.6"
  }
 },
 "nbformat": 4,
 "nbformat_minor": 5
}
