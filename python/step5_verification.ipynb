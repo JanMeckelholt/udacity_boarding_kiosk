{
 "cells": [
  {
   "cell_type": "code",
   "id": "initial_id",
   "metadata": {
    "collapsed": true,
    "ExecuteTime": {
     "end_time": "2025-07-18T06:41:39.991293Z",
     "start_time": "2025-07-18T06:41:39.851718Z"
    }
   },
   "source": "! source ../venv/bin/activate",
   "outputs": [],
   "execution_count": 25
  },
  {
   "metadata": {
    "ExecuteTime": {
     "end_time": "2025-07-18T06:41:40.135372Z",
     "start_time": "2025-07-18T06:41:40.005540Z"
    }
   },
   "cell_type": "code",
   "source": "! which python",
   "id": "c289ab845ec604aa",
   "outputs": [
    {
     "name": "stdout",
     "output_type": "stream",
     "text": [
      "/Users/JMECKEL/development/projects/python/udacity_boarding_kiosk/venv/bin/python\r\n"
     ]
    }
   ],
   "execution_count": 26
  },
  {
   "metadata": {
    "ExecuteTime": {
     "end_time": "2025-07-18T06:41:40.150381Z",
     "start_time": "2025-07-18T06:41:40.148448Z"
    }
   },
   "cell_type": "code",
   "source": [
    "import sys\n",
    "print(sys.executable)"
   ],
   "id": "be29db837852a54e",
   "outputs": [
    {
     "name": "stdout",
     "output_type": "stream",
     "text": [
      "/Users/JMECKEL/development/projects/python/udacity_boarding_kiosk/venv/bin/python\n"
     ]
    }
   ],
   "execution_count": 27
  },
  {
   "metadata": {
    "ExecuteTime": {
     "end_time": "2025-07-18T06:41:40.173851Z",
     "start_time": "2025-07-18T06:41:40.171432Z"
    }
   },
   "cell_type": "code",
   "source": [
    "\n",
    "import json\n",
    "import pandas as pd\n",
    "import os"
   ],
   "id": "22d2fc4fd00b7b31",
   "outputs": [],
   "execution_count": 28
  },
  {
   "metadata": {
    "ExecuteTime": {
     "end_time": "2025-07-18T06:41:40.192236Z",
     "start_time": "2025-07-18T06:41:40.190666Z"
    }
   },
   "cell_type": "code",
   "source": "manifest_file = \"../starter/flight-manifest-csv/FlightManifest_withDoB.csv\"",
   "id": "68a6732200a81a67",
   "outputs": [],
   "execution_count": 29
  },
  {
   "metadata": {
    "ExecuteTime": {
     "end_time": "2025-07-18T06:41:40.214160Z",
     "start_time": "2025-07-18T06:41:40.208703Z"
    }
   },
   "cell_type": "code",
   "source": [
    "df = pd.read_csv(manifest_file)\n",
    "df['DoBValidation'] = False\n",
    "df['NameValidation'] = False\n",
    "df['BoardingPassValidation'] = False\n",
    "print(df)"
   ],
   "id": "d39a229eb0964edc",
   "outputs": [
    {
     "name": "stdout",
     "output_type": "stream",
     "text": [
      "   Passanger Name Carrier   Flight No.     Class           From       To  \\\n",
      "0    Sameer Kumar       UA         234   Economy  San Francisco  Chicago   \n",
      "1  Radha S. Kumar       UA         234   Economy  San Francisco  Chicago   \n",
      "2      James Webb       UA         234  Business  San Francisco  Chicago   \n",
      "3    Libby Herold       UA         234  Business  San Francisco  Chicago   \n",
      "4   James Jackson       UA         234   Economy  San Francisco  Chicago   \n",
      "5  Avkash Chauhan       UA         234   Economy  San Francisco  Chicago   \n",
      "\n",
      "             Date Baggage Seat Gate Boarding Time  Ticket No. Date of Birth  \\\n",
      "0  April 20, 2022     YES  34A   G1  10:00 AM PST    34236746    1990-01-25   \n",
      "1  April 20, 2022     YES  34B   G1  10:00 AM PST    34236747    1970-12-15   \n",
      "2  April 20, 2022      No   1A   G1  10:00 AM PST    34236748    1970-12-15   \n",
      "3  April 20, 2022      No   3D   G1  10:00 AM PST    34236749    1996-02-10   \n",
      "4  April 20, 2022     YES  25B   G1  10:00 AM PST    34236750    1956-10-12   \n",
      "5  April 20, 2022      No  20A   G1  10:00 AM PST    34236751    1970-12-15   \n",
      "\n",
      "   DoBValidation  NameValidation  BoardingPassValidation  \n",
      "0          False           False                   False  \n",
      "1          False           False                   False  \n",
      "2          False           False                   False  \n",
      "3          False           False                   False  \n",
      "4          False           False                   False  \n",
      "5          False           False                   False  \n"
     ]
    }
   ],
   "execution_count": 30
  },
  {
   "metadata": {
    "ExecuteTime": {
     "end_time": "2025-07-18T06:41:40.248315Z",
     "start_time": "2025-07-18T06:41:40.239964Z"
    }
   },
   "cell_type": "code",
   "source": [
    "for idx, row in df.iterrows():\n",
    "    passanger_name = row['Passanger Name']\n",
    "    last_name = passanger_name.split()[-1].strip().strip('.')  # Assuming last name is the last part of the passenger name\n",
    "    first_name = ' '.join(passanger_name.split()[:-1]).strip().strip('.')\n",
    "    print(f\"First Name: {first_name}, Last Name: {last_name}\")\n",
    "    id_file_path = f\"./results/id_{first_name.replace(' ', '_').lower()}_{last_name.replace(' ', '_').lower()}.json\"\n",
    "    if not os.path.exists(id_file_path):\n",
    "        print(f\"File {id_file_path} does not exist.\")\n",
    "        data_from_id = {}\n",
    "        prefix_for_sex = ''\n",
    "        df.at[idx, 'DoBValidation'] = False\n",
    "    else:\n",
    "        with open(id_file_path, 'r') as f:\n",
    "            data_from_id = json.load(f)\n",
    "            prefix_for_sex = 'Mr. ' if data_from_id['sex'] == 'M' else 'Mrs. ' if data_from_id['sex'] == 'F' else ''\n",
    "            if f\"{data_from_id['first_name']} {data_from_id['last_name']}\" != f\"{first_name} {last_name}\":\n",
    "                print(f\"\\n{data_from_id['first_name']} {data_from_id['last_name']} does not match expected {first_name} {last_name}.\")\n",
    "                df.at[idx, 'NameValidation'] = False\n",
    "            else:\n",
    "                df.at[idx, 'NameValidation'] = True\n",
    "            if row.get(\"Date of Birth\") == data_from_id['dob']:\n",
    "                df.at[idx, 'DoBValidation'] = True\n",
    "            else:\n",
    "                print(f\"Date of Birth {data_from_id['dob']} does not match expected {row['Date of Birth']}\")\n",
    "                df.at[idx, 'DoBValidation'] = False\n",
    "\n",
    "    boarding_pass_file_path = f\"./results/boarding_pass_{first_name.replace(' ', '_').lower()}_{last_name.replace(' ', '_').lower()}.json\"\n",
    "    if not os.path.exists(boarding_pass_file_path):\n",
    "        print(f\"File {boarding_pass_file_path} does not exist\")\n",
    "        data_from_boarding = {}\n",
    "        df.at[idx, 'BoardingPassValidation'] = False\n",
    "    else:\n",
    "        with open(boarding_pass_file_path, 'r') as f:\n",
    "            data_from_boarding_pass = json.load(f)\n",
    "            if df.loc[idx, 'NameValidation'] and f\"{first_name} {last_name}\" == f\"{data_from_boarding_pass['first_name']} {data_from_boarding_pass['last_name']}\":\n",
    "                df.at[idx, 'NameValidation'] = True\n",
    "            else:\n",
    "                if df.at[idx, 'NameValidation']:\n",
    "                    print(f\"Name on boarding pass {data_from_boarding_pass['first_name']} {data_from_boarding_pass['last_name']} does not match expected {first_name} {last_name}\")\n",
    "                df.at[idx, 'NameValidation'] = False\n",
    "            if row.get(\"From\") != data_from_boarding_pass['from']:\n",
    "                df.at[idx, 'BoardingPassValidation'] = False\n",
    "                print(f\"From on boarding pass {data_from_boarding_pass['from']} does not match expected {row.get('From')}\")\n",
    "                print(\"------------------------\\n\")\n",
    "                continue\n",
    "            if row.get(\"To\") != data_from_boarding_pass['to']:\n",
    "                df.at[idx, 'BoardingPassValidation'] = False\n",
    "                print(f\"To on boarding pass {data_from_boarding_pass['to']} does not match expected {row.get('To')}\")\n",
    "                print(\"------------------------\\n\")\n",
    "                continue\n",
    "            if row.get(\"Gate\") != data_from_boarding_pass['gate']:\n",
    "                df.at[idx, 'BoardingPassValidation'] = False\n",
    "                print(f\"Gate on boarding pass {data_from_boarding_pass['gate']} does not match expected {row.get('Gate')}\")\n",
    "                print(\"------------------------\\n\")\n",
    "                continue\n",
    "            if str(row.get(\"Flight No.\")).strip() != str(data_from_boarding_pass['fno']).strip():\n",
    "                df.at[idx, 'BoardingPassValidation'] = False\n",
    "                print(f\"Flight No. on boarding pass {data_from_boarding_pass['fno']} does not match expected {row.get('Flight No.')}\")\n",
    "                print(\"------------------------\\n\")\n",
    "                continue\n",
    "            if row.get(\"Seat\") != data_from_boarding_pass['sno']:\n",
    "                df.at[idx, 'BoardingPassValidation'] = False\n",
    "                print(f\"Seat on boarding pass {data_from_boarding_pass['sno']} does not match expected {row.get('Seat')}\")\n",
    "                print(\"------------------------\\n\")\n",
    "                continue\n",
    "            if row.get(\"Carrier \") != data_from_boarding_pass['carrier']:\n",
    "                df.at[idx, 'BoardingPassValidation'] = False\n",
    "                print(f\"Carrier on boarding pass {data_from_boarding_pass['carrier']} does not match expected {row.get('Carrier ')}\")\n",
    "                print(\"------------------------\\n\")\n",
    "                continue\n",
    "            if row.get(\"Class\")[0] != data_from_boarding_pass['class'][0]:\n",
    "                df.at[idx, 'BoardingPassValidation'] = False\n",
    "                print(f\"Class on boarding pass {data_from_boarding_pass['class']} does not match expected {row.get('Class')}\")\n",
    "                print(\"------------------------\\n\")\n",
    "                continue\n",
    "            if row.get(\"Date\") != data_from_boarding_pass['date']:\n",
    "                df.at[idx, 'BoardingPassValidation'] = False\n",
    "                print(f\"Date on boarding pass {data_from_boarding_pass['date']} does not match expected {row.get('Date')}\")\n",
    "                print(\"------------------------\\n\")\n",
    "                continue\n",
    "            df.at[idx, 'BoardingPassValidation'] = True\n",
    "            print(f\"All Boarding-Pass validations passed for {first_name} {last_name}\\n\")\n",
    "            if df.at[idx, 'NameValidation']:\n",
    "                if df.at[idx, 'DoBValidation']:\n",
    "                    print(f\"Dear {prefix_for_sex}{first_name} {last_name},\\n\\\n",
    "You are welcome to flight # {data_from_boarding_pass['fno']} leaving at {data_from_boarding_pass['bt']} from {data_from_boarding_pass['from']} to {data_from_boarding_pass['to']}.\\n\\\n",
    "Your seat number is {data_from_boarding_pass['sno']}, and it is confirmed. \\n\\\n",
    "Your identity is verified so please board the plane.\\n\")\n",
    "                else:\n",
    "                    print(f\"Dear {prefix_for_sex}{first_name} {last_name},\\n\\\n",
    "Your boarding pass is valid. Unfortunately your date of birth does not match with our flight manifest.\\n\\\n",
    "Please contact service help desk.\\n\")\n",
    "            else:\n",
    "                print(f\"Dear {prefix_for_sex}{first_name} {last_name},\\n\\\n",
    "Your boarding pass is valid. Unfortunately we could not verify your ID.\\n\\\n",
    "Please contact service help desk.\\n\")\n",
    "    print(\"------------------------\\n\")"
   ],
   "id": "9f95485f9edb0ee4",
   "outputs": [
    {
     "name": "stdout",
     "output_type": "stream",
     "text": [
      "First Name: Sameer, Last Name: Kumar\n",
      "All Boarding-Pass validations passed for Sameer Kumar\n",
      "\n",
      "Dear Mr. Sameer Kumar,\n",
      "You are welcome to flight # 234 leaving at 10:00 AM PST from San Francisco to Chicago.\n",
      "Your seat number is 34A, and it is confirmed. \n",
      "Your identity is verified so please board the plane.\n",
      "\n",
      "------------------------\n",
      "\n",
      "First Name: Radha S, Last Name: Kumar\n",
      "Date of Birth 1994-03-05 does not match expected 1970-12-15\n",
      "All Boarding-Pass validations passed for Radha S Kumar\n",
      "\n",
      "Dear Mrs. Radha S Kumar,\n",
      "Your boarding pass is valid. Unfortunately your date of birth does not match with our flight manifest.\n",
      "Please contact service help desk.\n",
      "\n",
      "------------------------\n",
      "\n",
      "First Name: James, Last Name: Webb\n",
      "All Boarding-Pass validations passed for James Webb\n",
      "\n",
      "Dear Mr. James Webb,\n",
      "You are welcome to flight # 234 leaving at 10:00 AM PST from San Francisco to Chicago.\n",
      "Your seat number is 1A, and it is confirmed. \n",
      "Your identity is verified so please board the plane.\n",
      "\n",
      "------------------------\n",
      "\n",
      "First Name: Libby, Last Name: Herold\n",
      "All Boarding-Pass validations passed for Libby Herold\n",
      "\n",
      "Dear Libby Herold,\n",
      "You are welcome to flight # 234 leaving at 10:00 AM PST from San Francisco to Chicago.\n",
      "Your seat number is 3D, and it is confirmed. \n",
      "Your identity is verified so please board the plane.\n",
      "\n",
      "------------------------\n",
      "\n",
      "First Name: James, Last Name: Jackson\n",
      "All Boarding-Pass validations passed for James Jackson\n",
      "\n",
      "Dear Mr. James Jackson,\n",
      "You are welcome to flight # 234 leaving at 10:00 AM PST from San Francisco to Chicago.\n",
      "Your seat number is 25B, and it is confirmed. \n",
      "Your identity is verified so please board the plane.\n",
      "\n",
      "------------------------\n",
      "\n",
      "First Name: Avkash, Last Name: Chauhan\n",
      "File ./results/id_avkash_chauhan.json does not exist.\n",
      "All Boarding-Pass validations passed for Avkash Chauhan\n",
      "\n",
      "Dear Avkash Chauhan,\n",
      "Your boarding pass is valid. Unfortunately we could not verify your ID.\n",
      "Please contact service help desk.\n",
      "\n",
      "------------------------\n",
      "\n"
     ]
    }
   ],
   "execution_count": 31
  },
  {
   "metadata": {
    "ExecuteTime": {
     "end_time": "2025-07-18T06:41:40.274015Z",
     "start_time": "2025-07-18T06:41:40.270278Z"
    }
   },
   "cell_type": "code",
   "source": "print(df)",
   "id": "ed080a4c9263ff5d",
   "outputs": [
    {
     "name": "stdout",
     "output_type": "stream",
     "text": [
      "   Passanger Name Carrier   Flight No.     Class           From       To  \\\n",
      "0    Sameer Kumar       UA         234   Economy  San Francisco  Chicago   \n",
      "1  Radha S. Kumar       UA         234   Economy  San Francisco  Chicago   \n",
      "2      James Webb       UA         234  Business  San Francisco  Chicago   \n",
      "3    Libby Herold       UA         234  Business  San Francisco  Chicago   \n",
      "4   James Jackson       UA         234   Economy  San Francisco  Chicago   \n",
      "5  Avkash Chauhan       UA         234   Economy  San Francisco  Chicago   \n",
      "\n",
      "             Date Baggage Seat Gate Boarding Time  Ticket No. Date of Birth  \\\n",
      "0  April 20, 2022     YES  34A   G1  10:00 AM PST    34236746    1990-01-25   \n",
      "1  April 20, 2022     YES  34B   G1  10:00 AM PST    34236747    1970-12-15   \n",
      "2  April 20, 2022      No   1A   G1  10:00 AM PST    34236748    1970-12-15   \n",
      "3  April 20, 2022      No   3D   G1  10:00 AM PST    34236749    1996-02-10   \n",
      "4  April 20, 2022     YES  25B   G1  10:00 AM PST    34236750    1956-10-12   \n",
      "5  April 20, 2022      No  20A   G1  10:00 AM PST    34236751    1970-12-15   \n",
      "\n",
      "   DoBValidation  NameValidation  BoardingPassValidation  \n",
      "0           True            True                    True  \n",
      "1          False            True                    True  \n",
      "2           True            True                    True  \n",
      "3           True            True                    True  \n",
      "4           True            True                    True  \n",
      "5          False           False                    True  \n"
     ]
    }
   ],
   "execution_count": 32
  }
 ],
 "metadata": {
  "kernelspec": {
   "display_name": "Python 3 (ipykernel)",
   "language": "python",
   "name": "python3"
  },
  "language_info": {
   "codemirror_mode": {
    "name": "ipython",
    "version": 2
   },
   "file_extension": ".py",
   "mimetype": "text/x-python",
   "name": "python",
   "nbconvert_exporter": "python",
   "pygments_lexer": "ipython2",
   "version": "2.7.6"
  }
 },
 "nbformat": 4,
 "nbformat_minor": 5
}
