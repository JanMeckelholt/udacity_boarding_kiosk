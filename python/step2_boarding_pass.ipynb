{
 "cells": [
  {
   "cell_type": "code",
   "id": "initial_id",
   "metadata": {
    "collapsed": true,
    "ExecuteTime": {
     "end_time": "2025-07-17T07:40:36.033528Z",
     "start_time": "2025-07-17T07:40:35.896368Z"
    }
   },
   "source": "! source ../venv/bin/activate",
   "outputs": [],
   "execution_count": 1
  },
  {
   "metadata": {
    "ExecuteTime": {
     "end_time": "2025-07-17T07:40:36.228285Z",
     "start_time": "2025-07-17T07:40:36.105646Z"
    }
   },
   "cell_type": "code",
   "source": "! which python",
   "id": "c289ab845ec604aa",
   "outputs": [
    {
     "name": "stdout",
     "output_type": "stream",
     "text": [
      "/Users/JMECKEL/development/projects/python/udacity_boarding_kiosk/venv/bin/python\r\n"
     ]
    }
   ],
   "execution_count": 2
  },
  {
   "metadata": {
    "ExecuteTime": {
     "end_time": "2025-07-17T07:40:36.235918Z",
     "start_time": "2025-07-17T07:40:36.234270Z"
    }
   },
   "cell_type": "code",
   "source": [
    "import sys\n",
    "print(sys.executable)"
   ],
   "id": "be29db837852a54e",
   "outputs": [
    {
     "name": "stdout",
     "output_type": "stream",
     "text": [
      "/Users/JMECKEL/development/projects/python/udacity_boarding_kiosk/venv/bin/python\n"
     ]
    }
   ],
   "execution_count": 3
  },
  {
   "metadata": {
    "ExecuteTime": {
     "end_time": "2025-07-17T07:40:36.572233Z",
     "start_time": "2025-07-17T07:40:36.243064Z"
    }
   },
   "cell_type": "code",
   "source": [
    "import uuid\n",
    "from azure.ai.documentintelligence import DocumentIntelligenceAdministrationClient\n",
    "from azure.ai.documentintelligence import DocumentIntelligenceClient\n",
    "from azure.ai.documentintelligence.models import (\n",
    "    DocumentBuildMode,\n",
    "    BuildDocumentModelRequest,\n",
    "    AzureBlobContentSource,\n",
    "    DocumentModelDetails,\n",
    "    AnalyzeResult,\n",
    ")\n",
    "from azure.core.credentials import AzureKeyCredential\n",
    "\n",
    "from azure.storage.blob import ContainerClient\n",
    "from pdf2image import convert_from_path\n",
    "from PIL import Image\n",
    "import matplotlib.pyplot as plt\n",
    "from dotenv import load_dotenv\n",
    "import os"
   ],
   "id": "22d2fc4fd00b7b31",
   "outputs": [],
   "execution_count": 4
  },
  {
   "metadata": {
    "ExecuteTime": {
     "end_time": "2025-07-17T07:40:36.600944Z",
     "start_time": "2025-07-17T07:40:36.598526Z"
    }
   },
   "cell_type": "code",
   "source": [
    "load_dotenv(dotenv_path=\"../.env\", override=True)\n",
    "\n",
    "AZURE_DOC_INTEL_ENDPOINT = os.getenv(\"AZURE_DOC_INTEL_ENDPOINT\")\n",
    "AZURE_DOC_INTEL_KEY = os.getenv(\"AZURE_DOC_INTEL_KEY\")\n",
    "AZURE_BLOB_BP_TRAINING_DATA_URL = os.getenv(\"AZURE_BLOB_BP_TRAINING_DATA_URL\")"
   ],
   "id": "1ccab4c2932eeb83",
   "outputs": [],
   "execution_count": 5
  },
  {
   "metadata": {
    "ExecuteTime": {
     "end_time": "2025-07-17T07:40:36.733381Z",
     "start_time": "2025-07-17T07:40:36.606139Z"
    }
   },
   "cell_type": "code",
   "source": "!ls -al ../starter/boarding_pass_template/",
   "id": "de6680b517198a",
   "outputs": [
    {
     "name": "stdout",
     "output_type": "stream",
     "text": [
      "total 1432\r\n",
      "drwxr-xr-x@ 10 JMECKEL  staff     320 Jul 15 15:14 \u001B[34m.\u001B[m\u001B[m\r\n",
      "drwxr-xr-x@ 20 JMECKEL  staff     640 Jul 15 15:28 \u001B[34m..\u001B[m\u001B[m\r\n",
      "-rw-r--r--@  1 JMECKEL  staff   35277 Jul 15 15:14 boarding_pass_template.docx\r\n",
      "-rw-r--r--@  1 JMECKEL  staff  116384 Jul 15 15:14 boarding_pass_template.pdf\r\n",
      "-rw-r--r--@  1 JMECKEL  staff   94851 Jul 15 15:14 boarding-avkash.pdf\r\n",
      "-rw-r--r--@  1 JMECKEL  staff   94718 Jul 15 15:14 boarding-james-webb.pdf\r\n",
      "-rw-r--r--@  1 JMECKEL  staff   94115 Jul 15 15:14 boarding-james.pdf\r\n",
      "-rw-r--r--@  1 JMECKEL  staff   94842 Jul 15 15:14 boarding-libby.pdf\r\n",
      "-rw-r--r--@  1 JMECKEL  staff   93823 Jul 15 15:14 boarding-radha-s-kumar.pdf\r\n",
      "-rw-r--r--@  1 JMECKEL  staff   93262 Jul 15 15:14 boarding-sameer.pdf\r\n"
     ]
    }
   ],
   "execution_count": 6
  },
  {
   "metadata": {
    "ExecuteTime": {
     "end_time": "2025-07-17T07:40:36.743444Z",
     "start_time": "2025-07-17T07:40:36.741880Z"
    }
   },
   "cell_type": "code",
   "source": [
    "endpoint = AZURE_DOC_INTEL_ENDPOINT\n",
    "key = AZURE_DOC_INTEL_KEY\n",
    "training_data_url = AZURE_BLOB_BP_TRAINING_DATA_URL"
   ],
   "id": "cdb1a11399f0dd6d",
   "outputs": [],
   "execution_count": 7
  },
  {
   "metadata": {
    "ExecuteTime": {
     "end_time": "2025-07-17T07:40:38.732606Z",
     "start_time": "2025-07-17T07:40:36.758061Z"
    }
   },
   "cell_type": "code",
   "source": [
    "document_intelligence_admin_client = DocumentIntelligenceAdministrationClient(endpoint, AzureKeyCredential(key))\n",
    "poller = document_intelligence_admin_client.begin_build_document_model(\n",
    "    BuildDocumentModelRequest(\n",
    "        model_id=str(uuid.uuid4()),\n",
    "        build_mode=DocumentBuildMode.TEMPLATE,\n",
    "        azure_blob_source=AzureBlobContentSource(container_url=training_data_url),\n",
    "        description=\"boarding_pass_custom_model\",\n",
    "    )\n",
    ")\n",
    "model: DocumentModelDetails = poller.result()"
   ],
   "id": "70af168e0d911ab2",
   "outputs": [],
   "execution_count": 9
  },
  {
   "metadata": {
    "ExecuteTime": {
     "end_time": "2025-07-17T07:40:38.748996Z",
     "start_time": "2025-07-17T07:40:38.743505Z"
    }
   },
   "cell_type": "code",
   "source": [
    "print(f\"Model ID: {model.model_id}\")\n",
    "print(f\"Description: {model.description}\")\n",
    "print(f\"Model created on: {model.created_date_time}\")\n",
    "print(f\"Model expires on: {model.expiration_date_time}\")"
   ],
   "id": "68a6732200a81a67",
   "outputs": [
    {
     "name": "stdout",
     "output_type": "stream",
     "text": [
      "Model ID: c019b05b-8db9-4c65-b0d4-f0f2b21e7ff6\n",
      "Description: boarding_pass_custom_model\n",
      "Model created on: 2025-07-17 07:40:37+00:00\n",
      "Model expires on: 2027-07-17 07:40:37+00:00\n"
     ]
    }
   ],
   "execution_count": 10
  },
  {
   "metadata": {
    "ExecuteTime": {
     "end_time": "2025-07-17T07:40:38.760222Z",
     "start_time": "2025-07-17T07:40:38.757036Z"
    }
   },
   "cell_type": "code",
   "source": [
    "if model.doc_types:\n",
    "    print(\"Doc types the model can recognize:\")\n",
    "    for name, doc_type in model.doc_types.items():\n",
    "        print(f\"Doc Type: '{name}' built with '{doc_type.build_mode}' mode which has the following fields:\")\n",
    "        if doc_type.field_schema:\n",
    "            for field_name, field in doc_type.field_schema.items():\n",
    "                if doc_type.field_confidence:\n",
    "                    print(\n",
    "                        f\"Field: '{field_name}' has type '{field['type']}' and confidence score \"\n",
    "                        f\"{doc_type.field_confidence[field_name]}\"\n",
    "                    )"
   ],
   "id": "20b78b2fb3423cd0",
   "outputs": [
    {
     "name": "stdout",
     "output_type": "stream",
     "text": [
      "Doc types the model can recognize:\n",
      "Doc Type: 'c019b05b-8db9-4c65-b0d4-f0f2b21e7ff6' built with 'DocumentBuildMode.TEMPLATE' mode which has the following fields:\n",
      "Field: 'FirstName' has type 'string' and confidence score 0.995\n",
      "Field: 'LastName' has type 'string' and confidence score 0.995\n",
      "Field: 'From' has type 'string' and confidence score 0.995\n",
      "Field: 'To' has type 'string' and confidence score 0.995\n",
      "Field: 'Gate' has type 'string' and confidence score 0.995\n",
      "Field: 'BoardingTime' has type 'string' and confidence score 0.995\n",
      "Field: 'FlightNo' has type 'string' and confidence score 0.995\n",
      "Field: 'SeatNo' has type 'string' and confidence score 0.995\n"
     ]
    }
   ],
   "execution_count": 11
  },
  {
   "metadata": {
    "ExecuteTime": {
     "end_time": "2025-07-17T07:40:38.777615Z",
     "start_time": "2025-07-17T07:40:38.775300Z"
    }
   },
   "cell_type": "code",
   "source": "container_client = ContainerClient.from_container_url(training_data_url)",
   "id": "1e1afc2000bb5bc7",
   "outputs": [],
   "execution_count": 12
  },
  {
   "metadata": {
    "ExecuteTime": {
     "end_time": "2025-07-17T07:40:38.998728Z",
     "start_time": "2025-07-17T07:40:38.795472Z"
    }
   },
   "cell_type": "code",
   "source": [
    "print(\"Blobs in container:\")\n",
    "for blob in container_client.list_blobs():\n",
    "    print(blob.name)"
   ],
   "id": "9b6096a7e3e9325f",
   "outputs": [
    {
     "name": "stdout",
     "output_type": "stream",
     "text": [
      "Blobs in container:\n",
      "boarding-avkash.pdf\n",
      "boarding-avkash.pdf.labels.json\n",
      "boarding-avkash.pdf.ocr.json\n",
      "boarding-james.pdf\n",
      "boarding-james.pdf.labels.json\n",
      "boarding-james.pdf.ocr.json\n",
      "boarding-libby.pdf\n",
      "boarding-libby.pdf.labels.json\n",
      "boarding-libby.pdf.ocr.json\n",
      "boarding-radha-s-kumar.pdf\n",
      "boarding-radha-s-kumar.pdf.labels.json\n",
      "boarding-radha-s-kumar.pdf.ocr.json\n",
      "boarding-sameer.pdf\n",
      "boarding-sameer.pdf.labels.json\n",
      "boarding-sameer.pdf.ocr.json\n",
      "fields.json\n"
     ]
    }
   ],
   "execution_count": 13
  },
  {
   "metadata": {
    "ExecuteTime": {
     "end_time": "2025-07-17T07:40:39.009320Z",
     "start_time": "2025-07-17T07:40:39.007272Z"
    }
   },
   "cell_type": "code",
   "source": "input_boarding_pass = \"../starter/boarding_pass_template/boarding-james-webb.pdf\"",
   "id": "94c8e08b561d71d0",
   "outputs": [],
   "execution_count": 14
  },
  {
   "metadata": {
    "ExecuteTime": {
     "end_time": "2025-07-17T07:40:39.287157Z",
     "start_time": "2025-07-17T07:40:39.014869Z"
    }
   },
   "cell_type": "code",
   "source": [
    "pages = convert_from_path(input_boarding_pass, dpi=200)\n",
    "plt.figure()\n",
    "plt.imshow(pages[0])\n",
    "plt.axis('off')\n",
    "plt.show()"
   ],
   "id": "d990118ddc75067a",
   "outputs": [
    {
     "data": {
      "text/plain": [
       "<Figure size 640x480 with 1 Axes>"
      ],
      "image/png": "[encoded data removed]"
     },
     "metadata": {},
     "output_type": "display_data"
    }
   ],
   "execution_count": 15
  },
  {
   "metadata": {
    "ExecuteTime": {
     "end_time": "2025-07-17T07:40:39.299130Z",
     "start_time": "2025-07-17T07:40:39.296575Z"
    }
   },
   "cell_type": "code",
   "source": "document_intelligence_client = DocumentIntelligenceClient(endpoint=endpoint, credential=AzureKeyCredential(key))",
   "id": "87b5fe9ecb2f3a22",
   "outputs": [],
   "execution_count": 16
  },
  {
   "metadata": {
    "ExecuteTime": {
     "end_time": "2025-07-17T07:40:42.994005Z",
     "start_time": "2025-07-17T07:40:39.305883Z"
    }
   },
   "cell_type": "code",
   "source": [
    "with open(input_boarding_pass, \"rb\") as f:\n",
    "    poller = document_intelligence_client.begin_analyze_document(model_id=model.model_id, body=f)\n",
    "labeled_custom_test_action_result: AnalyzeResult = poller.result()"
   ],
   "id": "d8abff12fc5e2082",
   "outputs": [],
   "execution_count": 17
  },
  {
   "metadata": {
    "ExecuteTime": {
     "end_time": "2025-07-17T07:40:43.007824Z",
     "start_time": "2025-07-17T07:40:43.004939Z"
    }
   },
   "cell_type": "code",
   "source": [
    "def _print_table(header_names, table_data):\n",
    "    # Print a two-dimensional array like a table.\n",
    "    max_len_list = []\n",
    "    for i in range(len(header_names)):\n",
    "        col_values = list(map(lambda row: len(str(row[i])), table_data))\n",
    "        col_values.append(len(str(header_names[i])))\n",
    "        max_len_list.append(max(col_values))\n",
    "\n",
    "    row_format_str = \"\".join(map(lambda len: f\"{{:<{len + 4}}}\", max_len_list))\n",
    "\n",
    "    print(row_format_str.format(*header_names))\n",
    "    for row in table_data:\n",
    "        print(row_format_str.format(*row))"
   ],
   "id": "a5f0acfefd9a4ab9",
   "outputs": [],
   "execution_count": 18
  },
  {
   "metadata": {
    "ExecuteTime": {
     "end_time": "2025-07-17T07:40:43.022940Z",
     "start_time": "2025-07-17T07:40:43.017099Z"
    }
   },
   "cell_type": "code",
   "source": [
    "if labeled_custom_test_action_result.documents:\n",
    "    for idx, document in enumerate(labeled_custom_test_action_result.documents):\n",
    "        print(f\"--------Analyzing document #{idx + 1}--------\")\n",
    "        print(f\"Document has type {document.doc_type}\")\n",
    "        print(f\"Document has document type confidence {document.confidence}\")\n",
    "        print(f\"Document was analyzed with model with ID {labeled_custom_test_action_result.model_id}\")\n",
    "        if document.fields:\n",
    "            for name, field in document.fields.items():\n",
    "                field_value = field.get(\"valueString\") if field.get(\"valueString\") else field.content\n",
    "                print(\n",
    "                    f\"......found field of type '{field.type}' with value '{field_value}' and with confidence {field.confidence}\"\n",
    "                )\n",
    "\n",
    "    # Extract table cell values\n",
    "    SYMBOL_OF_TABLE_TYPE = \"array\"\n",
    "    SYMBOL_OF_OBJECT_TYPE = \"object\"\n",
    "    KEY_OF_VALUE_OBJECT = \"valueObject\"\n",
    "    KEY_OF_CELL_CONTENT = \"content\"\n",
    "\n",
    "    for doc in labeled_custom_test_action_result.documents:\n",
    "        if not doc.fields is None:\n",
    "            for field_name, field_value in doc.fields.items():\n",
    "                # Dynamic Table cell information store as array in document field.\n",
    "                if field_value.type == SYMBOL_OF_TABLE_TYPE and field_value.value_array:\n",
    "                    col_names = []\n",
    "                    sample_obj = field_value.value_array[0]\n",
    "                    if KEY_OF_VALUE_OBJECT in sample_obj:\n",
    "                        col_names = list(sample_obj[KEY_OF_VALUE_OBJECT].keys())\n",
    "                    print(\"----Extracting Dynamic Table Cell Values----\")\n",
    "                    table_rows = []\n",
    "                    for obj in field_value.value_array:\n",
    "                        if KEY_OF_VALUE_OBJECT in obj:\n",
    "                            value_obj = obj[KEY_OF_VALUE_OBJECT]\n",
    "                            extract_value_by_col_name = lambda key: (\n",
    "                                value_obj[key].get(KEY_OF_CELL_CONTENT)\n",
    "                                if key in value_obj and KEY_OF_CELL_CONTENT in value_obj[key]\n",
    "                                else \"None\"\n",
    "                            )\n",
    "                            row_data = list(map(extract_value_by_col_name, col_names))\n",
    "                            table_rows.append(row_data)\n",
    "                    _print_table(col_names, table_rows)\n",
    "\n",
    "                elif (\n",
    "                    field_value.type == SYMBOL_OF_OBJECT_TYPE\n",
    "                    and KEY_OF_VALUE_OBJECT in field_value\n",
    "                    and field_value[KEY_OF_VALUE_OBJECT] is not None\n",
    "                ):\n",
    "                    rows_by_columns = list(field_value[KEY_OF_VALUE_OBJECT].values())\n",
    "                    is_fixed_table = all(\n",
    "                        (\n",
    "                            rows_of_column[\"type\"] == SYMBOL_OF_OBJECT_TYPE\n",
    "                            and Counter(list(rows_by_columns[0][KEY_OF_VALUE_OBJECT].keys()))\n",
    "                            == Counter(list(rows_of_column[KEY_OF_VALUE_OBJECT].keys()))\n",
    "                        )\n",
    "                        for rows_of_column in rows_by_columns\n",
    "                    )\n",
    "\n",
    "                    # Fixed Table cell information store as object in document field.\n",
    "                    if is_fixed_table:\n",
    "                        print(\"----Extracting Fixed Table Cell Values----\")\n",
    "                        col_names = list(field_value[KEY_OF_VALUE_OBJECT].keys())\n",
    "                        row_dict: dict = {}\n",
    "                        for rows_of_column in rows_by_columns:\n",
    "                            rows = rows_of_column[KEY_OF_VALUE_OBJECT]\n",
    "                            for row_key in list(rows.keys()):\n",
    "                                if row_key in row_dict:\n",
    "                                    row_dict[row_key].append(rows[row_key].get(KEY_OF_CELL_CONTENT))\n",
    "                                else:\n",
    "                                    row_dict[row_key] = [\n",
    "                                        row_key,\n",
    "                                        rows[row_key].get(KEY_OF_CELL_CONTENT),\n",
    "                                    ]\n",
    "\n",
    "                        col_names.insert(0, \"\")\n",
    "                        _print_table(col_names, list(row_dict.values()))\n",
    "\n",
    "print(\"------------------------------------\")"
   ],
   "id": "9f4e2ec5caa73e77",
   "outputs": [
    {
     "name": "stdout",
     "output_type": "stream",
     "text": [
      "--------Analyzing document #1--------\n",
      "Document has type c019b05b-8db9-4c65-b0d4-f0f2b21e7ff6:c019b05b-8db9-4c65-b0d4-f0f2b21e7ff6\n",
      "Document has document type confidence 0.989\n",
      "Document was analyzed with model with ID c019b05b-8db9-4c65-b0d4-f0f2b21e7ff6\n",
      "......found field of type 'DocumentFieldType.STRING' with value '10:00 AM PST' and with confidence 0.99\n",
      "......found field of type 'DocumentFieldType.STRING' with value '1A' and with confidence 0.973\n",
      "......found field of type 'DocumentFieldType.STRING' with value 'Chicago' and with confidence 0.99\n",
      "......found field of type 'DocumentFieldType.STRING' with value '234' and with confidence 0.99\n",
      "......found field of type 'DocumentFieldType.STRING' with value 'G1' and with confidence 0.99\n",
      "......found field of type 'DocumentFieldType.STRING' with value 'James' and with confidence 0.995\n",
      "......found field of type 'DocumentFieldType.STRING' with value 'Webb' and with confidence 0.995\n",
      "......found field of type 'DocumentFieldType.STRING' with value 'San Francisco' and with confidence 0.99\n",
      "------------------------------------\n"
     ]
    }
   ],
   "execution_count": 19
  },
  {
   "metadata": {
    "ExecuteTime": {
     "end_time": "2025-07-17T07:40:43.036896Z",
     "start_time": "2025-07-17T07:40:43.034044Z"
    }
   },
   "cell_type": "code",
   "source": "labeled_custom_test_action_result",
   "id": "c9f63f1fffc27a24",
   "outputs": [
    {
     "data": {
      "text/plain": [
       "{'apiVersion': '2024-11-30', 'modelId': 'c019b05b-8db9-4c65-b0d4-f0f2b21e7ff6', 'stringIndexType': 'textElements', 'content': 'ETK-34236748B\\nUDACITY AIRLINES\\nPassenger Name\\nCarrier\\nFlight No.\\nClass\\nPassenger Name\\nJames Webb\\nUA\\n234\\nB\\nJames Webb\\nFrom\\nSan Francisco\\nTo\\nChicago\\nFrom: San Francisco\\nDate\\nBaggage\\nSeat\\nSeat\\nDate\\nTo: Chicago\\nApril 20, 2022\\nYES\\n1A\\n1A\\nApril 20, 2022\\nGATE\\nBoarding Time\\nGATE\\nBoarding Time\\nG1\\n10:00 AM\\nG1\\n10:00 AM PST\\nPST', 'pages': [{'pageNumber': 1, 'angle': 0.052027568221092224, 'width': 11, 'height': 8.5, 'unit': 'inch', 'words': [{'content': 'ETK-34236748B', 'polygon': [8.5691, 1.6801, 9.9371, 1.676, 9.9371, 1.8483, 8.5702, 1.8483], 'confidence': 0.992, 'span': {'offset': 0, 'length': 13}}, {'content': 'UDACITY', 'polygon': [1.2567, 4.5863, 1.2567, 3.4028, 1.5405, 3.403, 1.5429, 4.5883], 'confidence': 0.994, 'span': {'offset': 14, 'length': 7}}, {'content': 'AIRLINES', 'polygon': [1.2567, 3.3185, 1.2567, 2.0641, 1.5345, 2.0641, 1.5405, 3.319], 'confidence': 0.988, 'span': {'offset': 22, 'length': 8}}, {'content': 'Passenger', 'polygon': [2.0056, 1.9063, 2.8065, 1.908, 2.8063, 2.1029, 2.0048, 2.1028], 'confidence': 0.994, 'span': {'offset': 31, 'length': 9}}, {'content': 'Name', 'polygon': [2.8451, 1.9083, 3.3271, 1.907, 3.3271, 2.1026, 2.8449, 2.1029], 'confidence': 0.992, 'span': {'offset': 41, 'length': 4}}, {'content': 'Carrier', 'polygon': [4.5756, 1.9105, 5.148, 1.9087, 5.1478, 2.0731, 4.5759, 2.0721], 'confidence': 0.996, 'span': {'offset': 46, 'length': 7}}, {'content': 'Flight', 'polygon': [5.7585, 1.9062, 6.2386, 1.9053, 6.2388, 2.099, 5.7588, 2.1018], 'confidence': 0.998, 'span': {'offset': 54, 'length': 6}}, {'content': 'No.', 'polygon': [6.2835, 1.9052, 6.5712, 1.9029, 6.5712, 2.0952, 6.2836, 2.0989], 'confidence': 0.995, 'span': {'offset': 61, 'length': 3}}, {'content': 'Class', 'polygon': [7.02, 1.9175, 7.4514, 1.9176, 7.4514, 2.0697, 7.02, 2.0697], 'confidence': 0.998, 'span': {'offset': 65, 'length': 5}}, {'content': 'Passenger', 'polygon': [7.818, 1.9079, 8.6158, 1.9093, 8.6162, 2.102, 7.8183, 2.0998], 'confidence': 0.995, 'span': {'offset': 71, 'length': 9}}, {'content': 'Name', 'polygon': [8.6568, 1.9092, 9.1344, 1.9079, 9.1344, 2.1002, 8.6573, 2.1028], 'confidence': 0.992, 'span': {'offset': 81, 'length': 4}}, {'content': 'James', 'polygon': [2.0094, 2.1384, 2.4961, 2.1377, 2.4965, 2.3132, 2.0096, 2.3116], 'confidence': 0.997, 'span': {'offset': 86, 'length': 5}}, {'content': 'Webb', 'polygon': [2.5505, 2.1381, 3.0171, 2.1357, 3.0171, 2.3123, 2.5508, 2.3132], 'confidence': 0.992, 'span': {'offset': 92, 'length': 4}}, {'content': 'UA', 'polygon': [4.572, 2.1428, 4.8717, 2.1434, 4.8717, 2.3046, 4.5721, 2.3025], 'confidence': 0.996, 'span': {'offset': 97, 'length': 2}}, {'content': '234', 'polygon': [5.7642, 2.1429, 6.073, 2.1432, 6.073, 2.3063, 5.7644, 2.3053], 'confidence': 0.997, 'span': {'offset': 100, 'length': 3}}, {'content': 'B', 'polygon': [7.0138, 2.1439, 7.1525, 2.1437, 7.1525, 2.3006, 7.0139, 2.3001], 'confidence': 0.99, 'span': {'offset': 104, 'length': 1}}, {'content': 'James', 'polygon': [7.8217, 2.1387, 8.3044, 2.1379, 8.3056, 2.3112, 7.822, 2.3114], 'confidence': 0.997, 'span': {'offset': 106, 'length': 5}}, {'content': 'Webb', 'polygon': [8.3583, 2.1381, 8.8244, 2.1354, 8.8244, 2.3108, 8.3594, 2.3115], 'confidence': 0.989, 'span': {'offset': 112, 'length': 4}}, {'content': 'From', 'polygon': [7.8231, 2.3799, 8.268, 2.3797, 8.268, 2.54, 7.823, 2.54], 'confidence': 0.992, 'span': {'offset': 117, 'length': 4}}, {'content': 'San', 'polygon': [8.5113, 2.3708, 8.8135, 2.3709, 8.8138, 2.5456, 8.5128, 2.5456], 'confidence': 0.997, 'span': {'offset': 122, 'length': 3}}, {'content': 'Francisco', 'polygon': [8.8649, 2.3714, 9.6271, 2.3741, 9.6271, 2.5456, 8.865, 2.5456], 'confidence': 0.995, 'span': {'offset': 126, 'length': 9}}, {'content': 'To', 'polygon': [7.8275, 2.6084, 8.0549, 2.6082, 8.0549, 2.7669, 7.8275, 2.7669], 'confidence': 0.995, 'span': {'offset': 136, 'length': 2}}, {'content': 'Chicago', 'polygon': [8.5185, 2.6085, 9.1731, 2.6085, 9.1731, 2.7891, 8.518, 2.787], 'confidence': 0.998, 'span': {'offset': 139, 'length': 7}}, {'content': 'From:', 'polygon': [2.0073, 2.8314, 2.4861, 2.8311, 2.4861, 3.009, 2.0072, 3.008], 'confidence': 0.993, 'span': {'offset': 147, 'length': 5}}, {'content': 'San', 'polygon': [2.605, 2.8316, 2.8894, 2.8331, 2.8894, 3.0093, 2.6052, 3.0092], 'confidence': 0.998, 'span': {'offset': 153, 'length': 3}}, {'content': 'Francisco', 'polygon': [2.9358, 2.8333, 3.7018, 2.8331, 3.7016, 3.0101, 2.9359, 3.0096], 'confidence': 0.995, 'span': {'offset': 157, 'length': 9}}, {'content': 'Date', 'polygon': [4.573, 2.8381, 4.9602, 2.8393, 4.9602, 2.9977, 4.5729, 2.9965], 'confidence': 0.985, 'span': {'offset': 167, 'length': 4}}, {'content': 'Baggage', 'polygon': [5.764, 2.8406, 6.466, 2.858, 6.466, 3.0145, 5.7635, 3.0066], 'confidence': 0.995, 'span': {'offset': 172, 'length': 7}}, {'content': 'Seat', 'polygon': [7.0203, 2.8401, 7.3739, 2.8417, 7.3739, 2.9969, 7.0204, 2.9955], 'confidence': 0.992, 'span': {'offset': 180, 'length': 4}}, {'content': 'Seat', 'polygon': [7.8304, 2.8388, 8.182, 2.8403, 8.182, 2.9993, 7.8305, 2.9967], 'confidence': 0.989, 'span': {'offset': 185, 'length': 4}}, {'content': 'Date', 'polygon': [8.5104, 2.8404, 8.9019, 2.8412, 8.9015, 2.9991, 8.5105, 2.9977], 'confidence': 0.991, 'span': {'offset': 190, 'length': 4}}, {'content': 'To:', 'polygon': [2.0134, 3.0626, 2.2811, 3.0628, 2.2806, 3.251, 2.0137, 3.2472], 'confidence': 0.996, 'span': {'offset': 195, 'length': 3}}, {'content': 'Chicago', 'polygon': [2.3457, 3.0642, 3.0005, 3.0704, 3.0005, 3.2594, 2.3447, 3.2519], 'confidence': 0.998, 'span': {'offset': 199, 'length': 7}}, {'content': 'April', 'polygon': [4.5696, 3.0471, 4.9092, 3.0473, 4.9096, 3.2235, 4.5717, 3.2262], 'confidence': 0.995, 'span': {'offset': 207, 'length': 5}}, {'content': '20,', 'polygon': [4.9667, 3.0478, 5.1854, 3.0485, 5.1856, 3.2226, 4.9669, 3.2234], 'confidence': 0.992, 'span': {'offset': 213, 'length': 3}}, {'content': '2022', 'polygon': [5.243, 3.0484, 5.6301, 3.0483, 5.6301, 3.2192, 5.2432, 3.2228], 'confidence': 0.99, 'span': {'offset': 217, 'length': 4}}, {'content': 'YES', 'polygon': [5.7692, 3.0669, 6.1449, 3.0679, 6.1449, 3.2262, 5.7696, 3.2262], 'confidence': 0.996, 'span': {'offset': 222, 'length': 3}}, {'content': '1A', 'polygon': [7.0269, 3.07, 7.2687, 3.0706, 7.2687, 3.229, 7.0277, 3.2286], 'confidence': 0.992, 'span': {'offset': 226, 'length': 2}}, {'content': '1A', 'polygon': [7.8397, 3.0693, 8.077, 3.0699, 8.077, 3.2295, 7.8402, 3.229], 'confidence': 0.992, 'span': {'offset': 229, 'length': 2}}, {'content': 'April', 'polygon': [8.5092, 3.0431, 8.7963, 3.044, 8.7964, 3.1964, 8.5104, 3.1972], 'confidence': 0.994, 'span': {'offset': 232, 'length': 5}}, {'content': '20,', 'polygon': [8.8437, 3.0442, 9.0484, 3.0436, 9.0484, 3.1958, 8.8438, 3.1964], 'confidence': 0.995, 'span': {'offset': 238, 'length': 3}}, {'content': '2022', 'polygon': [9.0783, 3.0436, 9.389, 3.0438, 9.389, 3.1957, 9.0782, 3.196], 'confidence': 0.989, 'span': {'offset': 242, 'length': 4}}, {'content': 'GATE', 'polygon': [2.0181, 3.5251, 2.5521, 3.525, 2.5521, 3.6911, 2.0183, 3.6904], 'confidence': 0.992, 'span': {'offset': 247, 'length': 4}}, {'content': 'Boarding', 'polygon': [3.1973, 3.5203, 3.9329, 3.5199, 3.933, 3.717, 3.1982, 3.7151], 'confidence': 0.997, 'span': {'offset': 252, 'length': 8}}, {'content': 'Time', 'polygon': [3.9848, 3.5198, 4.4066, 3.5204, 4.4066, 3.7165, 3.9848, 3.7182], 'confidence': 0.992, 'span': {'offset': 261, 'length': 4}}, {'content': 'GATE', 'polygon': [7.8289, 3.5276, 8.3593, 3.5256, 8.3593, 3.6877, 7.8297, 3.6892], 'confidence': 0.992, 'span': {'offset': 266, 'length': 4}}, {'content': 'Boarding', 'polygon': [8.5044, 3.5223, 9.2458, 3.5236, 9.2472, 3.7163, 8.5066, 3.7143], 'confidence': 0.995, 'span': {'offset': 271, 'length': 8}}, {'content': 'Time', 'polygon': [9.2996, 3.5235, 9.7157, 3.5239, 9.7157, 3.7157, 9.301, 3.717], 'confidence': 0.989, 'span': {'offset': 280, 'length': 4}}, {'content': 'G1', 'polygon': [2.016, 4.0062, 2.3417, 4.0047, 2.3417, 4.2279, 2.0159, 4.2279], 'confidence': 0.977, 'span': {'offset': 285, 'length': 2}}, {'content': '10:00', 'polygon': [3.2166, 3.77, 3.7735, 3.7693, 3.7741, 3.9844, 3.2176, 3.9844], 'confidence': 0.997, 'span': {'offset': 288, 'length': 5}}, {'content': 'AM', 'polygon': [3.8405, 3.7695, 4.2627, 3.77, 4.2627, 3.9833, 3.8411, 3.9844], 'confidence': 0.985, 'span': {'offset': 294, 'length': 2}}, {'content': 'G1', 'polygon': [7.83, 3.9756, 8.0604, 3.9757, 8.0604, 4.1376, 7.8303, 4.1362], 'confidence': 0.987, 'span': {'offset': 297, 'length': 2}}, {'content': '10:00', 'polygon': [8.52, 3.9679, 8.9619, 3.9684, 8.9629, 4.1448, 8.5218, 4.1449], 'confidence': 0.998, 'span': {'offset': 300, 'length': 5}}, {'content': 'AM', 'polygon': [9.0138, 3.9683, 9.3258, 3.9682, 9.3267, 4.1438, 9.0148, 4.1441], 'confidence': 0.993, 'span': {'offset': 306, 'length': 2}}, {'content': 'PST', 'polygon': [9.3749, 3.968, 9.7212, 3.9673, 9.7212, 4.1449, 9.3761, 4.1433], 'confidence': 0.998, 'span': {'offset': 309, 'length': 3}}, {'content': 'PST', 'polygon': [3.1969, 4.0566, 3.6537, 4.0537, 3.6537, 4.2611, 3.1967, 4.2611], 'confidence': 0.998, 'span': {'offset': 313, 'length': 3}}], 'lines': [{'content': 'ETK-34236748B', 'polygon': [8.5691, 1.6799, 9.9346, 1.676, 9.9351, 1.8469, 8.5695, 1.8483], 'spans': [{'offset': 0, 'length': 13}]}, {'content': 'UDACITY AIRLINES', 'polygon': [1.2591, 4.5915, 1.2567, 2.0666, 1.54, 2.0661, 1.5445, 4.5909], 'spans': [{'offset': 14, 'length': 16}]}, {'content': 'Passenger Name', 'polygon': [2.005, 1.9058, 3.3255, 1.907, 3.3254, 2.1026, 2.0048, 2.1013], 'spans': [{'offset': 31, 'length': 14}]}, {'content': 'Carrier', 'polygon': [4.5756, 1.908, 5.145, 1.9087, 5.1448, 2.0703, 4.5754, 2.0696], 'spans': [{'offset': 46, 'length': 7}]}, {'content': 'Flight No.', 'polygon': [5.7584, 1.9036, 6.5708, 1.902, 6.5712, 2.0974, 5.7588, 2.099], 'spans': [{'offset': 54, 'length': 10}]}, {'content': 'Class', 'polygon': [7.02, 1.9164, 7.4513, 1.9162, 7.4514, 2.0691, 7.02, 2.0693], 'spans': [{'offset': 65, 'length': 5}]}, {'content': 'Passenger Name', 'polygon': [7.818, 1.9068, 9.1327, 1.9079, 9.1325, 2.1, 7.8179, 2.0989], 'spans': [{'offset': 71, 'length': 14}]}, {'content': 'James Webb', 'polygon': [2.0091, 2.1384, 3.0147, 2.1355, 3.0152, 2.31, 2.0096, 2.3129], 'spans': [{'offset': 86, 'length': 10}]}, {'content': 'UA', 'polygon': [4.572, 2.1416, 4.8704, 2.1433, 4.8692, 2.303, 4.5708, 2.3007], 'spans': [{'offset': 97, 'length': 2}]}, {'content': '234', 'polygon': [5.7642, 2.1427, 6.0701, 2.1428, 6.07, 2.3039, 5.7642, 2.3038], 'spans': [{'offset': 100, 'length': 3}]}, {'content': 'B', 'polygon': [7.0138, 2.1437, 7.1507, 2.1436, 7.1508, 2.2985, 7.0139, 2.2986], 'spans': [{'offset': 104, 'length': 1}]}, {'content': 'James Webb', 'polygon': [7.8215, 2.138, 8.8238, 2.1354, 8.8242, 2.3079, 7.822, 2.3105], 'spans': [{'offset': 106, 'length': 10}]}, {'content': 'From', 'polygon': [7.8225, 2.3799, 8.2653, 2.3786, 8.2657, 2.5383, 7.823, 2.5395], 'spans': [{'offset': 117, 'length': 4}]}, {'content': 'San Francisco', 'polygon': [8.5113, 2.37, 9.6261, 2.373, 9.6256, 2.5456, 8.5109, 2.543], 'spans': [{'offset': 122, 'length': 13}]}, {'content': 'To', 'polygon': [7.8275, 2.6081, 8.0548, 2.6081, 8.0548, 2.7656, 7.8275, 2.7656], 'spans': [{'offset': 136, 'length': 2}]}, {'content': 'Chicago', 'polygon': [8.5184, 2.6072, 9.1728, 2.6085, 9.1725, 2.7887, 8.518, 2.7874], 'spans': [{'offset': 139, 'length': 7}]}, {'content': 'From: San Francisco', 'polygon': [2.0073, 2.8301, 3.6984, 2.8331, 3.6981, 3.009, 2.007, 3.006], 'spans': [{'offset': 147, 'length': 19}]}, {'content': 'Date', 'polygon': [4.573, 2.8375, 4.96, 2.8379, 4.9599, 2.9957, 4.5729, 2.9954], 'spans': [{'offset': 167, 'length': 4}]}, {'content': 'Baggage', 'polygon': [5.764, 2.8405, 6.4628, 2.8515, 6.4602, 3.0149, 5.763, 3.0038], 'spans': [{'offset': 172, 'length': 7}]}, {'content': 'Seat', 'polygon': [7.0203, 2.8401, 7.3696, 2.8415, 7.369, 2.995, 7.0197, 2.9936], 'spans': [{'offset': 180, 'length': 4}]}, {'content': 'Seat', 'polygon': [7.8304, 2.8374, 8.1795, 2.84, 8.1783, 2.9967, 7.8292, 2.9941], 'spans': [{'offset': 185, 'length': 4}]}, {'content': 'Date', 'polygon': [8.5104, 2.84, 8.8966, 2.8413, 8.8961, 2.9971, 8.5099, 2.9959], 'spans': [{'offset': 190, 'length': 4}]}, {'content': 'To: Chicago', 'polygon': [2.0135, 3.0602, 2.9975, 3.0702, 2.9953, 3.2576, 2.0113, 3.2463], 'spans': [{'offset': 195, 'length': 11}]}, {'content': 'April 20, 2022', 'polygon': [4.5696, 3.0471, 5.6264, 3.0436, 5.6273, 3.219, 4.5705, 3.2243], 'spans': [{'offset': 207, 'length': 14}]}, {'content': 'YES', 'polygon': [5.7692, 3.0665, 6.1424, 3.0675, 6.142, 3.2258, 5.7688, 3.2248], 'spans': [{'offset': 222, 'length': 3}]}, {'content': '1A', 'polygon': [7.0269, 3.07, 7.2662, 3.0704, 7.266, 3.2264, 7.0266, 3.226], 'spans': [{'offset': 226, 'length': 2}]}, {'content': '1A', 'polygon': [7.8397, 3.0691, 8.0733, 3.0694, 8.0732, 3.2273, 7.8395, 3.2271], 'spans': [{'offset': 229, 'length': 2}]}, {'content': 'April 20, 2022', 'polygon': [8.5092, 3.0431, 9.3862, 3.0432, 9.3862, 3.1948, 8.5092, 3.1947], 'spans': [{'offset': 232, 'length': 14}]}, {'content': 'GATE', 'polygon': [2.0181, 3.5239, 2.5497, 3.5245, 2.5495, 3.689, 2.0179, 3.6884], 'spans': [{'offset': 247, 'length': 4}]}, {'content': 'Boarding Time', 'polygon': [3.1973, 3.517, 4.4032, 3.519, 4.4029, 3.717, 3.197, 3.7151], 'spans': [{'offset': 252, 'length': 13}]}, {'content': 'GATE', 'polygon': [7.8289, 3.5276, 8.3589, 3.5255, 8.3593, 3.686, 7.8295, 3.6881], 'spans': [{'offset': 266, 'length': 4}]}, {'content': 'Boarding Time', 'polygon': [8.5044, 3.5189, 9.7154, 3.5205, 9.7152, 3.7145, 8.5041, 3.7128], 'spans': [{'offset': 271, 'length': 13}]}, {'content': 'G1', 'polygon': [2.0151, 4.0062, 2.3416, 4.004, 2.3417, 4.2244, 2.0159, 4.2266], 'spans': [{'offset': 285, 'length': 2}]}, {'content': '10:00 AM', 'polygon': [3.2166, 3.7693, 4.2586, 3.7689, 4.2587, 3.9818, 3.2167, 3.9822], 'spans': [{'offset': 288, 'length': 8}]}, {'content': 'G1', 'polygon': [7.83, 3.9749, 8.0559, 3.9746, 8.0562, 4.1356, 7.8303, 4.1359], 'spans': [{'offset': 297, 'length': 2}]}, {'content': '10:00 AM PST', 'polygon': [8.52, 3.9679, 9.7193, 3.9669, 9.7195, 4.1419, 8.5201, 4.143], 'spans': [{'offset': 300, 'length': 12}]}, {'content': 'PST', 'polygon': [3.1965, 4.0538, 3.6482, 4.0535, 3.6484, 4.2588, 3.1967, 4.2591], 'spans': [{'offset': 313, 'length': 3}]}], 'spans': [{'offset': 0, 'length': 316}]}], 'tables': [{'rowCount': 10, 'columnCount': 8, 'cells': [{'kind': 'columnHeader', 'rowIndex': 0, 'columnIndex': 0, 'rowSpan': 10, 'content': 'UDACITY AIRLINES', 'boundingRegions': [{'pageNumber': 1, 'polygon': [1.0259, 1.8817, 1.939, 1.8724, 1.9298, 4.6317, 1.0075, 4.6409]}], 'spans': [{'offset': 14, 'length': 16}], 'elements': ['/paragraphs/1']}, {'kind': 'columnHeader', 'rowIndex': 0, 'columnIndex': 1, 'columnSpan': 2, 'content': 'Passenger Name', 'boundingRegions': [{'pageNumber': 1, 'polygon': [1.939, 1.8724, 4.503, 1.8724, 4.503, 2.1124, 1.939, 2.1124]}], 'spans': [{'offset': 31, 'length': 14}], 'elements': ['/paragraphs/2']}, {'kind': 'columnHeader', 'rowIndex': 0, 'columnIndex': 3, 'content': 'Carrier', 'boundingRegions': [{'pageNumber': 1, 'polygon': [4.503, 1.8724, 5.6836, 1.8724, 5.6836, 2.1124, 4.503, 2.1124]}], 'spans': [{'offset': 46, 'length': 7}], 'elements': ['/paragraphs/3']}, {'kind': 'columnHeader', 'rowIndex': 0, 'columnIndex': 4, 'content': 'Flight No.', 'boundingRegions': [{'pageNumber': 1, 'polygon': [5.6836, 1.8724, 6.735, 1.8632, 6.735, 2.1124, 5.6836, 2.1124]}], 'spans': [{'offset': 54, 'length': 10}], 'elements': ['/paragraphs/4']}, {'kind': 'columnHeader', 'rowIndex': 0, 'columnIndex': 5, 'content': 'Class', 'boundingRegions': [{'pageNumber': 1, 'polygon': [6.735, 1.8632, 7.7587, 1.8632, 7.7587, 2.1124, 6.735, 2.1124]}], 'spans': [{'offset': 65, 'length': 5}], 'elements': ['/paragraphs/5']}, {'kind': 'columnHeader', 'rowIndex': 0, 'columnIndex': 6, 'columnSpan': 2, 'content': 'Passenger Name', 'boundingRegions': [{'pageNumber': 1, 'polygon': [7.7587, 1.8632, 9.9999, 1.8632, 9.9999, 2.1031, 7.7587, 2.1124]}], 'spans': [{'offset': 71, 'length': 14}], 'elements': ['/paragraphs/6']}, {'kind': 'columnHeader', 'rowIndex': 1, 'columnIndex': 1, 'columnSpan': 2, 'content': 'James Webb', 'boundingRegions': [{'pageNumber': 1, 'polygon': [1.939, 2.1124, 4.503, 2.1124, 4.503, 2.3339, 1.939, 2.3431]}], 'spans': [{'offset': 86, 'length': 10}], 'elements': ['/paragraphs/7']}, {'kind': 'columnHeader', 'rowIndex': 1, 'columnIndex': 3, 'content': 'UA', 'boundingRegions': [{'pageNumber': 1, 'polygon': [4.503, 2.1124, 5.6836, 2.1124, 5.6836, 2.3339, 4.503, 2.3339]}], 'spans': [{'offset': 97, 'length': 2}], 'elements': ['/paragraphs/8']}, {'kind': 'columnHeader', 'rowIndex': 1, 'columnIndex': 4, 'content': '234', 'boundingRegions': [{'pageNumber': 1, 'polygon': [5.6836, 2.1124, 6.735, 2.1124, 6.735, 2.3339, 5.6836, 2.3339]}], 'spans': [{'offset': 100, 'length': 3}], 'elements': ['/paragraphs/9']}, {'kind': 'columnHeader', 'rowIndex': 1, 'columnIndex': 5, 'content': 'B', 'boundingRegions': [{'pageNumber': 1, 'polygon': [6.735, 2.1124, 7.7587, 2.1124, 7.7587, 2.3339, 6.735, 2.3339]}], 'spans': [{'offset': 104, 'length': 1}], 'elements': ['/paragraphs/10']}, {'kind': 'columnHeader', 'rowIndex': 1, 'columnIndex': 6, 'columnSpan': 2, 'content': 'James Webb', 'boundingRegions': [{'pageNumber': 1, 'polygon': [7.7587, 2.1124, 9.9999, 2.1031, 9.9999, 2.3246, 7.7587, 2.3339]}], 'spans': [{'offset': 106, 'length': 10}], 'elements': ['/paragraphs/11']}, {'kind': 'columnHeader', 'rowIndex': 2, 'columnIndex': 1, 'rowSpan': 2, 'columnSpan': 5, 'content': '', 'boundingRegions': [{'pageNumber': 1, 'polygon': [1.939, 2.3431, 7.7587, 2.3339, 7.7587, 2.7953, 1.939, 2.7953]}], 'spans': []}, {'kind': 'columnHeader', 'rowIndex': 2, 'columnIndex': 6, 'content': 'From', 'boundingRegions': [{'pageNumber': 1, 'polygon': [7.7587, 2.3339, 8.4413, 2.3339, 8.4413, 2.5738, 7.7587, 2.5738]}], 'spans': [{'offset': 117, 'length': 4}], 'elements': ['/paragraphs/12']}, {'kind': 'columnHeader', 'rowIndex': 2, 'columnIndex': 7, 'content': 'San Francisco', 'boundingRegions': [{'pageNumber': 1, 'polygon': [8.4413, 2.3339, 9.9999, 2.3246, 9.9999, 2.5738, 8.4413, 2.5738]}], 'spans': [{'offset': 122, 'length': 13}], 'elements': ['/paragraphs/13']}, {'rowIndex': 3, 'columnIndex': 6, 'content': 'To', 'boundingRegions': [{'pageNumber': 1, 'polygon': [7.7587, 2.5738, 8.4413, 2.5738, 8.4413, 2.7953, 7.7587, 2.7953]}], 'spans': [{'offset': 136, 'length': 2}], 'elements': ['/paragraphs/14']}, {'rowIndex': 3, 'columnIndex': 7, 'content': 'Chicago', 'boundingRegions': [{'pageNumber': 1, 'polygon': [8.4413, 2.5738, 9.9999, 2.5738, 9.9999, 2.7953, 8.4413, 2.7953]}], 'spans': [{'offset': 139, 'length': 7}], 'elements': ['/paragraphs/15']}, {'rowIndex': 4, 'columnIndex': 1, 'columnSpan': 2, 'content': 'From: San Francisco', 'boundingRegions': [{'pageNumber': 1, 'polygon': [1.939, 2.7953, 4.503, 2.7953, 4.503, 3.026, 1.939, 3.026]}], 'spans': [{'offset': 147, 'length': 19}], 'elements': ['/paragraphs/16']}, {'rowIndex': 4, 'columnIndex': 3, 'content': 'Date', 'boundingRegions': [{'pageNumber': 1, 'polygon': [4.503, 2.7953, 5.6836, 2.7953, 5.6836, 3.026, 4.503, 3.026]}], 'spans': [{'offset': 167, 'length': 4}], 'elements': ['/paragraphs/17']}, {'rowIndex': 4, 'columnIndex': 4, 'content': 'Baggage', 'boundingRegions': [{'pageNumber': 1, 'polygon': [5.6836, 2.7953, 6.735, 2.7953, 6.735, 3.026, 5.6836, 3.026]}], 'spans': [{'offset': 172, 'length': 7}], 'elements': ['/paragraphs/18']}, {'rowIndex': 4, 'columnIndex': 5, 'content': 'Seat', 'boundingRegions': [{'pageNumber': 1, 'polygon': [6.735, 2.7953, 7.7587, 2.7953, 7.7587, 3.026, 6.735, 3.026]}], 'spans': [{'offset': 180, 'length': 4}], 'elements': ['/paragraphs/19']}, {'rowIndex': 4, 'columnIndex': 6, 'content': 'Seat', 'boundingRegions': [{'pageNumber': 1, 'polygon': [7.7587, 2.7953, 8.4413, 2.7953, 8.4413, 3.026, 7.7587, 3.026]}], 'spans': [{'offset': 185, 'length': 4}], 'elements': ['/paragraphs/20']}, {'rowIndex': 4, 'columnIndex': 7, 'content': 'Date', 'boundingRegions': [{'pageNumber': 1, 'polygon': [8.4413, 2.7953, 9.9999, 2.7953, 9.9999, 3.026, 8.4413, 3.026]}], 'spans': [{'offset': 190, 'length': 4}], 'elements': ['/paragraphs/21']}, {'rowIndex': 5, 'columnIndex': 1, 'columnSpan': 2, 'content': 'To: Chicago', 'boundingRegions': [{'pageNumber': 1, 'polygon': [1.939, 3.026, 4.503, 3.026, 4.5122, 3.4874, 1.9298, 3.4874]}], 'spans': [{'offset': 195, 'length': 11}], 'elements': ['/paragraphs/22']}, {'rowIndex': 5, 'columnIndex': 3, 'content': 'April 20, 2022', 'boundingRegions': [{'pageNumber': 1, 'polygon': [4.503, 3.026, 5.6836, 3.026, 5.6836, 3.4782, 4.5122, 3.4874]}], 'spans': [{'offset': 207, 'length': 14}], 'elements': ['/paragraphs/23']}, {'rowIndex': 5, 'columnIndex': 4, 'content': 'YES', 'boundingRegions': [{'pageNumber': 1, 'polygon': [5.6836, 3.026, 6.735, 3.026, 6.735, 3.4874, 5.6836, 3.4782]}], 'spans': [{'offset': 222, 'length': 3}], 'elements': ['/paragraphs/24']}, {'rowIndex': 5, 'columnIndex': 5, 'content': '1A', 'boundingRegions': [{'pageNumber': 1, 'polygon': [6.735, 3.026, 7.7587, 3.026, 7.7587, 3.4874, 6.735, 3.4874]}], 'spans': [{'offset': 226, 'length': 2}], 'elements': ['/paragraphs/25']}, {'rowIndex': 5, 'columnIndex': 6, 'content': '1A', 'boundingRegions': [{'pageNumber': 1, 'polygon': [7.7587, 3.026, 8.4413, 3.026, 8.4413, 3.4874, 7.7587, 3.4874]}], 'spans': [{'offset': 229, 'length': 2}], 'elements': ['/paragraphs/26']}, {'rowIndex': 5, 'columnIndex': 7, 'content': 'April 20, 2022', 'boundingRegions': [{'pageNumber': 1, 'polygon': [8.4413, 3.026, 9.9999, 3.026, 9.9999, 3.4782, 8.4413, 3.4874]}], 'spans': [{'offset': 232, 'length': 14}], 'elements': ['/paragraphs/27']}, {'rowIndex': 6, 'columnIndex': 1, 'content': 'GATE', 'boundingRegions': [{'pageNumber': 1, 'polygon': [1.9298, 3.4874, 2.8705, 3.4874, 2.8705, 3.7273, 1.9298, 3.7273]}], 'spans': [{'offset': 247, 'length': 4}], 'elements': ['/paragraphs/28']}, {'rowIndex': 6, 'columnIndex': 2, 'content': 'Boarding Time', 'boundingRegions': [{'pageNumber': 1, 'polygon': [2.8705, 3.4874, 4.5122, 3.4874, 4.5122, 3.7273, 2.8705, 3.7273]}], 'spans': [{'offset': 252, 'length': 13}], 'elements': ['/paragraphs/29']}, {'rowIndex': 6, 'columnIndex': 3, 'content': '', 'boundingRegions': [{'pageNumber': 1, 'polygon': [4.5122, 3.4874, 5.6836, 3.4782, 5.6836, 3.7366, 4.5122, 3.7273]}], 'spans': []}, {'rowIndex': 6, 'columnIndex': 4, 'content': '', 'boundingRegions': [{'pageNumber': 1, 'polygon': [5.6836, 3.4782, 6.735, 3.4874, 6.735, 3.7366, 5.6836, 3.7366]}], 'spans': []}, {'rowIndex': 6, 'columnIndex': 5, 'content': '', 'boundingRegions': [{'pageNumber': 1, 'polygon': [6.735, 3.4874, 7.7587, 3.4874, 7.7587, 3.7366, 6.735, 3.7366]}], 'spans': []}, {'rowIndex': 6, 'columnIndex': 6, 'content': 'GATE', 'boundingRegions': [{'pageNumber': 1, 'polygon': [7.7587, 3.4874, 8.4413, 3.4874, 8.4413, 3.7366, 7.7587, 3.7366]}], 'spans': [{'offset': 266, 'length': 4}], 'elements': ['/paragraphs/30']}, {'rowIndex': 6, 'columnIndex': 7, 'content': 'Boarding Time', 'boundingRegions': [{'pageNumber': 1, 'polygon': [8.4413, 3.4874, 9.9999, 3.4782, 9.9999, 3.7366, 8.4413, 3.7366]}], 'spans': [{'offset': 271, 'length': 13}], 'elements': ['/paragraphs/31']}, {'rowIndex': 7, 'columnIndex': 1, 'rowSpan': 3, 'content': 'G1', 'boundingRegions': [{'pageNumber': 1, 'polygon': [1.9298, 3.7273, 2.8705, 3.7273, 2.8613, 4.6317, 1.9298, 4.6317]}], 'spans': [{'offset': 285, 'length': 2}], 'elements': ['/paragraphs/32']}, {'rowIndex': 7, 'columnIndex': 2, 'content': '10:00 AM', 'boundingRegions': [{'pageNumber': 1, 'polygon': [2.8705, 3.7273, 4.5122, 3.7273, 4.5122, 3.9857, 2.8705, 3.995]}], 'spans': [{'offset': 288, 'length': 8}], 'elements': ['/paragraphs/33']}, {'rowIndex': 7, 'columnIndex': 3, 'content': '', 'boundingRegions': [{'pageNumber': 1, 'polygon': [4.5122, 3.7273, 5.6836, 3.7366, 5.6836, 3.9857, 4.5122, 3.9857]}], 'spans': []}, {'rowIndex': 7, 'columnIndex': 4, 'content': '', 'boundingRegions': [{'pageNumber': 1, 'polygon': [5.6836, 3.7366, 6.735, 3.7366, 6.735, 3.995, 5.6836, 3.9857]}], 'spans': []}, {'rowIndex': 7, 'columnIndex': 5, 'rowSpan': 3, 'content': '', 'boundingRegions': [{'pageNumber': 1, 'polygon': [6.735, 3.7366, 7.7587, 3.7366, 7.7587, 4.6225, 6.735, 4.6225]}], 'spans': []}, {'rowIndex': 7, 'columnIndex': 6, 'content': '', 'boundingRegions': [{'pageNumber': 1, 'polygon': [7.7587, 3.7366, 8.4413, 3.7366, 8.4413, 3.9857, 7.7587, 3.995]}], 'spans': []}, {'rowIndex': 7, 'columnIndex': 7, 'content': '', 'boundingRegions': [{'pageNumber': 1, 'polygon': [8.4413, 3.7366, 9.9999, 3.7366, 9.9999, 3.9857, 8.4413, 3.9857]}], 'spans': []}, {'rowIndex': 8, 'columnIndex': 2, 'content': 'PST', 'boundingRegions': [{'pageNumber': 1, 'polygon': [2.8705, 3.995, 4.5122, 3.9857, 4.5122, 4.3733, 2.8613, 4.3825]}], 'spans': [{'offset': 313, 'length': 3}], 'elements': ['/paragraphs/34']}, {'rowIndex': 8, 'columnIndex': 3, 'rowSpan': 2, 'content': '', 'boundingRegions': [{'pageNumber': 1, 'polygon': [4.5122, 3.9857, 5.6836, 3.9857, 5.6836, 4.6225, 4.5122, 4.6225]}], 'spans': []}, {'rowIndex': 8, 'columnIndex': 4, 'rowSpan': 2, 'content': '', 'boundingRegions': [{'pageNumber': 1, 'polygon': [5.6836, 3.9857, 6.735, 3.995, 6.735, 4.6225, 5.6836, 4.6225]}], 'spans': []}, {'rowIndex': 8, 'columnIndex': 6, 'content': 'G1', 'boundingRegions': [{'pageNumber': 1, 'polygon': [7.7587, 3.995, 8.4413, 3.9857, 8.4413, 4.3733, 7.7587, 4.3733]}], 'spans': [{'offset': 297, 'length': 2}], 'elements': ['/paragraphs/35']}, {'rowIndex': 8, 'columnIndex': 7, 'rowSpan': 2, 'content': '10:00 AM PST', 'boundingRegions': [{'pageNumber': 1, 'polygon': [8.4413, 3.9857, 9.9999, 3.9857, 9.9907, 4.6317, 8.4413, 4.6225]}], 'spans': [{'offset': 300, 'length': 12}], 'elements': ['/paragraphs/36']}, {'rowIndex': 9, 'columnIndex': 2, 'content': '', 'boundingRegions': [{'pageNumber': 1, 'polygon': [2.8613, 4.3825, 4.5122, 4.3733, 4.5122, 4.6225, 2.8613, 4.6317]}], 'spans': []}, {'rowIndex': 9, 'columnIndex': 6, 'content': '', 'boundingRegions': [{'pageNumber': 1, 'polygon': [7.7587, 4.3733, 8.4413, 4.3733, 8.4413, 4.6225, 7.7587, 4.6225]}], 'spans': []}], 'boundingRegions': [{'pageNumber': 1, 'polygon': [1.1408, 1.8559, 10.1345, 1.8637, 10.1337, 4.75, 1.1398, 4.7421]}], 'spans': [{'offset': 14, 'length': 282}, {'offset': 313, 'length': 3}, {'offset': 297, 'length': 15}]}], 'paragraphs': [{'spans': [{'offset': 0, 'length': 13}], 'boundingRegions': [{'pageNumber': 1, 'polygon': [8.5691, 1.6799, 9.9346, 1.676, 9.9351, 1.8469, 8.5695, 1.8508]}], 'content': 'ETK-34236748B'}, {'spans': [{'offset': 14, 'length': 16}], 'boundingRegions': [{'pageNumber': 1, 'polygon': [1.0259, 1.8817, 1.939, 1.8724, 1.9298, 4.6317, 1.0075, 4.6409]}], 'content': 'UDACITY AIRLINES'}, {'spans': [{'offset': 31, 'length': 14}], 'boundingRegions': [{'pageNumber': 1, 'polygon': [1.939, 1.8724, 4.503, 1.8724, 4.503, 2.1124, 1.939, 2.1124]}], 'content': 'Passenger Name'}, {'spans': [{'offset': 46, 'length': 7}], 'boundingRegions': [{'pageNumber': 1, 'polygon': [4.503, 1.8724, 5.6836, 1.8724, 5.6836, 2.1124, 4.503, 2.1124]}], 'content': 'Carrier'}, {'spans': [{'offset': 54, 'length': 10}], 'boundingRegions': [{'pageNumber': 1, 'polygon': [5.6836, 1.8724, 6.735, 1.8632, 6.735, 2.1124, 5.6836, 2.1124]}], 'content': 'Flight No.'}, {'spans': [{'offset': 65, 'length': 5}], 'boundingRegions': [{'pageNumber': 1, 'polygon': [6.735, 1.8632, 7.7587, 1.8632, 7.7587, 2.1124, 6.735, 2.1124]}], 'content': 'Class'}, {'spans': [{'offset': 71, 'length': 14}], 'boundingRegions': [{'pageNumber': 1, 'polygon': [7.7587, 1.8632, 9.9999, 1.8632, 9.9999, 2.1031, 7.7587, 2.1124]}], 'content': 'Passenger Name'}, {'spans': [{'offset': 86, 'length': 10}], 'boundingRegions': [{'pageNumber': 1, 'polygon': [1.939, 2.1124, 4.503, 2.1124, 4.503, 2.3339, 1.939, 2.3431]}], 'content': 'James Webb'}, {'spans': [{'offset': 97, 'length': 2}], 'boundingRegions': [{'pageNumber': 1, 'polygon': [4.503, 2.1124, 5.6836, 2.1124, 5.6836, 2.3339, 4.503, 2.3339]}], 'content': 'UA'}, {'spans': [{'offset': 100, 'length': 3}], 'boundingRegions': [{'pageNumber': 1, 'polygon': [5.6836, 2.1124, 6.735, 2.1124, 6.735, 2.3339, 5.6836, 2.3339]}], 'content': '234'}, {'spans': [{'offset': 104, 'length': 1}], 'boundingRegions': [{'pageNumber': 1, 'polygon': [6.735, 2.1124, 7.7587, 2.1124, 7.7587, 2.3339, 6.735, 2.3339]}], 'content': 'B'}, {'spans': [{'offset': 106, 'length': 10}], 'boundingRegions': [{'pageNumber': 1, 'polygon': [7.7587, 2.1124, 9.9999, 2.1031, 9.9999, 2.3246, 7.7587, 2.3339]}], 'content': 'James Webb'}, {'spans': [{'offset': 117, 'length': 4}], 'boundingRegions': [{'pageNumber': 1, 'polygon': [7.7587, 2.3339, 8.4413, 2.3339, 8.4413, 2.5738, 7.7587, 2.5738]}], 'content': 'From'}, {'spans': [{'offset': 122, 'length': 13}], 'boundingRegions': [{'pageNumber': 1, 'polygon': [8.4413, 2.3339, 9.9999, 2.3246, 9.9999, 2.5738, 8.4413, 2.5738]}], 'content': 'San Francisco'}, {'spans': [{'offset': 136, 'length': 2}], 'boundingRegions': [{'pageNumber': 1, 'polygon': [7.7587, 2.5738, 8.4413, 2.5738, 8.4413, 2.7953, 7.7587, 2.7953]}], 'content': 'To'}, {'spans': [{'offset': 139, 'length': 7}], 'boundingRegions': [{'pageNumber': 1, 'polygon': [8.4413, 2.5738, 9.9999, 2.5738, 9.9999, 2.7953, 8.4413, 2.7953]}], 'content': 'Chicago'}, {'spans': [{'offset': 147, 'length': 19}], 'boundingRegions': [{'pageNumber': 1, 'polygon': [1.939, 2.7953, 4.503, 2.7953, 4.503, 3.026, 1.939, 3.026]}], 'content': 'From: San Francisco'}, {'spans': [{'offset': 167, 'length': 4}], 'boundingRegions': [{'pageNumber': 1, 'polygon': [4.503, 2.7953, 5.6836, 2.7953, 5.6836, 3.026, 4.503, 3.026]}], 'content': 'Date'}, {'spans': [{'offset': 172, 'length': 7}], 'boundingRegions': [{'pageNumber': 1, 'polygon': [5.6836, 2.7953, 6.735, 2.7953, 6.735, 3.026, 5.6836, 3.026]}], 'content': 'Baggage'}, {'spans': [{'offset': 180, 'length': 4}], 'boundingRegions': [{'pageNumber': 1, 'polygon': [6.735, 2.7953, 7.7587, 2.7953, 7.7587, 3.026, 6.735, 3.026]}], 'content': 'Seat'}, {'spans': [{'offset': 185, 'length': 4}], 'boundingRegions': [{'pageNumber': 1, 'polygon': [7.7587, 2.7953, 8.4413, 2.7953, 8.4413, 3.026, 7.7587, 3.026]}], 'content': 'Seat'}, {'spans': [{'offset': 190, 'length': 4}], 'boundingRegions': [{'pageNumber': 1, 'polygon': [8.4413, 2.7953, 9.9999, 2.7953, 9.9999, 3.026, 8.4413, 3.026]}], 'content': 'Date'}, {'spans': [{'offset': 195, 'length': 11}], 'boundingRegions': [{'pageNumber': 1, 'polygon': [1.939, 3.026, 4.503, 3.026, 4.5122, 3.4874, 1.9298, 3.4874]}], 'content': 'To: Chicago'}, {'spans': [{'offset': 207, 'length': 14}], 'boundingRegions': [{'pageNumber': 1, 'polygon': [4.503, 3.026, 5.6836, 3.026, 5.6836, 3.4782, 4.5122, 3.4874]}], 'content': 'April 20, 2022'}, {'spans': [{'offset': 222, 'length': 3}], 'boundingRegions': [{'pageNumber': 1, 'polygon': [5.6836, 3.026, 6.735, 3.026, 6.735, 3.4874, 5.6836, 3.4782]}], 'content': 'YES'}, {'spans': [{'offset': 226, 'length': 2}], 'boundingRegions': [{'pageNumber': 1, 'polygon': [6.735, 3.026, 7.7587, 3.026, 7.7587, 3.4874, 6.735, 3.4874]}], 'content': '1A'}, {'spans': [{'offset': 229, 'length': 2}], 'boundingRegions': [{'pageNumber': 1, 'polygon': [7.7587, 3.026, 8.4413, 3.026, 8.4413, 3.4874, 7.7587, 3.4874]}], 'content': '1A'}, {'spans': [{'offset': 232, 'length': 14}], 'boundingRegions': [{'pageNumber': 1, 'polygon': [8.4413, 3.026, 9.9999, 3.026, 9.9999, 3.4782, 8.4413, 3.4874]}], 'content': 'April 20, 2022'}, {'spans': [{'offset': 247, 'length': 4}], 'boundingRegions': [{'pageNumber': 1, 'polygon': [1.9298, 3.4874, 2.8705, 3.4874, 2.8705, 3.7273, 1.9298, 3.7273]}], 'content': 'GATE'}, {'spans': [{'offset': 252, 'length': 13}], 'boundingRegions': [{'pageNumber': 1, 'polygon': [2.8705, 3.4874, 4.5122, 3.4874, 4.5122, 3.7273, 2.8705, 3.7273]}], 'content': 'Boarding Time'}, {'spans': [{'offset': 266, 'length': 4}], 'boundingRegions': [{'pageNumber': 1, 'polygon': [7.7587, 3.4874, 8.4413, 3.4874, 8.4413, 3.7366, 7.7587, 3.7366]}], 'content': 'GATE'}, {'spans': [{'offset': 271, 'length': 13}], 'boundingRegions': [{'pageNumber': 1, 'polygon': [8.4413, 3.4874, 9.9999, 3.4782, 9.9999, 3.7366, 8.4413, 3.7366]}], 'content': 'Boarding Time'}, {'spans': [{'offset': 285, 'length': 2}], 'boundingRegions': [{'pageNumber': 1, 'polygon': [1.9298, 3.7273, 2.8705, 3.7273, 2.8613, 4.6317, 1.9298, 4.6317]}], 'content': 'G1'}, {'spans': [{'offset': 288, 'length': 8}], 'boundingRegions': [{'pageNumber': 1, 'polygon': [2.8705, 3.7273, 4.5122, 3.7273, 4.5122, 3.9857, 2.8705, 3.995]}], 'content': '10:00 AM'}, {'spans': [{'offset': 313, 'length': 3}], 'boundingRegions': [{'pageNumber': 1, 'polygon': [2.8705, 3.995, 4.5122, 3.9857, 4.5122, 4.3733, 2.8613, 4.3825]}], 'content': 'PST'}, {'spans': [{'offset': 297, 'length': 2}], 'boundingRegions': [{'pageNumber': 1, 'polygon': [7.7587, 3.995, 8.4413, 3.9857, 8.4413, 4.3733, 7.7587, 4.3733]}], 'content': 'G1'}, {'spans': [{'offset': 300, 'length': 12}], 'boundingRegions': [{'pageNumber': 1, 'polygon': [8.4413, 3.9857, 9.9999, 3.9857, 9.9907, 4.6317, 8.4413, 4.6225]}], 'content': '10:00 AM PST'}], 'styles': [], 'documents': [{'docType': 'c019b05b-8db9-4c65-b0d4-f0f2b21e7ff6:c019b05b-8db9-4c65-b0d4-f0f2b21e7ff6', 'boundingRegions': [{'pageNumber': 1, 'polygon': [0, 0, 11, 0, 11, 8.5, 0, 8.5]}], 'fields': {'BoardingTime': {'type': 'string', 'valueString': '10:00 AM PST', 'content': '10:00 AM\\nPST', 'boundingRegions': [{'pageNumber': 1, 'polygon': [3.195, 3.77, 4.265, 3.77, 4.265, 4.26, 3.195, 4.26]}], 'confidence': 0.99, 'spans': [{'offset': 288, 'length': 8}, {'offset': 313, 'length': 3}]}, 'SeatNo': {'type': 'string', 'valueString': '1A', 'content': '1A', 'boundingRegions': [{'pageNumber': 1, 'polygon': [7.025, 3.07, 7.27, 3.07, 7.27, 3.23, 7.025, 3.23]}], 'confidence': 0.973, 'spans': [{'offset': 226, 'length': 2}]}, 'To': {'type': 'string', 'valueString': 'Chicago', 'content': 'Chicago', 'boundingRegions': [{'pageNumber': 1, 'polygon': [2.345, 3.065, 3, 3.065, 3, 3.26, 2.345, 3.26]}], 'confidence': 0.99, 'spans': [{'offset': 199, 'length': 7}]}, 'FlightNo': {'type': 'string', 'valueString': '234', 'content': '234', 'boundingRegions': [{'pageNumber': 1, 'polygon': [5.765, 2.145, 6.075, 2.145, 6.075, 2.305, 5.765, 2.305]}], 'confidence': 0.99, 'spans': [{'offset': 100, 'length': 3}]}, 'Gate': {'type': 'string', 'valueString': 'G1', 'content': 'G1', 'boundingRegions': [{'pageNumber': 1, 'polygon': [2.015, 4.005, 2.34, 4.005, 2.34, 4.23, 2.015, 4.23]}], 'confidence': 0.99, 'spans': [{'offset': 285, 'length': 2}]}, 'FirstName': {'type': 'string', 'valueString': 'James', 'content': 'James', 'boundingRegions': [{'pageNumber': 1, 'polygon': [2.01, 2.14, 2.495, 2.14, 2.495, 2.315, 2.01, 2.315]}], 'confidence': 0.995, 'spans': [{'offset': 86, 'length': 5}]}, 'LastName': {'type': 'string', 'valueString': 'Webb', 'content': 'Webb', 'boundingRegions': [{'pageNumber': 1, 'polygon': [2.55, 2.135, 3.015, 2.135, 3.015, 2.315, 2.55, 2.315]}], 'confidence': 0.995, 'spans': [{'offset': 92, 'length': 4}]}, 'From': {'type': 'string', 'valueString': 'San Francisco', 'content': 'San Francisco', 'boundingRegions': [{'pageNumber': 1, 'polygon': [2.605, 2.83, 3.7, 2.83, 3.7, 3.01, 2.605, 3.01]}], 'confidence': 0.99, 'spans': [{'offset': 153, 'length': 13}]}}, 'confidence': 0.989, 'spans': [{'offset': 0, 'length': 316}]}], 'contentFormat': 'text', 'sections': [{'spans': [{'offset': 0, 'length': 296}, {'offset': 313, 'length': 3}, {'offset': 297, 'length': 15}], 'elements': ['/paragraphs/0', '/tables/0']}]}"
      ]
     },
     "execution_count": 20,
     "metadata": {},
     "output_type": "execute_result"
    }
   ],
   "execution_count": 20
  },
  {
   "metadata": {
    "ExecuteTime": {
     "end_time": "2025-07-17T07:40:43.050322Z",
     "start_time": "2025-07-17T07:40:43.046781Z"
    }
   },
   "cell_type": "code",
   "source": [
    "fields = labeled_custom_test_action_result.documents[0].fields if labeled_custom_test_action_result.documents else {}\n",
    "print(fields)\n",
    "first_name = fields.get(\"FirstName\").get(\"valueString\") if (fields.get(\"FirstName\") and fields.get(\"FirstName\").get(\"valueString\")) else None\n",
    "last_name = fields.get(\"LastName\").get(\"valueString\") if (fields.get(\"LastName\") and fields.get(\"LastName\").get(\"valueString\")) else None\n",
    "start = fields.get(\"From\").get(\"valueString\") if (fields.get(\"From\") and fields.get(\"From\").get(\"valueString\")) else None\n",
    "dest = fields.get(\"To\").get(\"valueString\") if (fields.get(\"To\") and fields.get(\"To\").get(\"valueString\")) else None\n",
    "gate = fields.get(\"Gate\").get(\"valueString\") if (fields.get(\"Gate\") and fields.get(\"Gate\").get(\"valueString\")) else None\n",
    "bt = fields.get(\"BoardingTime\").get(\"valueString\") if (fields.get(\"BoardingTime\") and fields.get(\"BoardingTime\").get(\"valueString\")) else None\n",
    "fno = fields.get(\"FlightNo\").get(\"valueString\") if (fields.get(\"FlightNo\") and fields.get(\"FlightNo\").get(\"valueString\")) else None\n",
    "sno = fields.get(\"SeatNo\").get(\"valueString\") if (fields.get(\"SeatNo\") and fields.get(\"SeatNo\").get(\"valueString\")) else None\n",
    "\n",
    "print(f\"Name: {first_name} {last_name}\")\n",
    "print(f\"From {start} to {dest}\")\n",
    "print(f\"Gate: {gate}\")\n",
    "print(f\"Boarding Time: {bt}\")\n",
    "print(f\"FlightNo: {fno}\")\n",
    "print(f\"SeatNo: {sno}\")\n"
   ],
   "id": "4439bc74c3629d71",
   "outputs": [
    {
     "name": "stdout",
     "output_type": "stream",
     "text": [
      "{'BoardingTime': {'type': 'string', 'valueString': '10:00 AM PST', 'content': '10:00 AM\\nPST', 'boundingRegions': [{'pageNumber': 1, 'polygon': [3.195, 3.77, 4.265, 3.77, 4.265, 4.26, 3.195, 4.26]}], 'confidence': 0.99, 'spans': [{'offset': 288, 'length': 8}, {'offset': 313, 'length': 3}]}, 'SeatNo': {'type': 'string', 'valueString': '1A', 'content': '1A', 'boundingRegions': [{'pageNumber': 1, 'polygon': [7.025, 3.07, 7.27, 3.07, 7.27, 3.23, 7.025, 3.23]}], 'confidence': 0.973, 'spans': [{'offset': 226, 'length': 2}]}, 'To': {'type': 'string', 'valueString': 'Chicago', 'content': 'Chicago', 'boundingRegions': [{'pageNumber': 1, 'polygon': [2.345, 3.065, 3, 3.065, 3, 3.26, 2.345, 3.26]}], 'confidence': 0.99, 'spans': [{'offset': 199, 'length': 7}]}, 'FlightNo': {'type': 'string', 'valueString': '234', 'content': '234', 'boundingRegions': [{'pageNumber': 1, 'polygon': [5.765, 2.145, 6.075, 2.145, 6.075, 2.305, 5.765, 2.305]}], 'confidence': 0.99, 'spans': [{'offset': 100, 'length': 3}]}, 'Gate': {'type': 'string', 'valueString': 'G1', 'content': 'G1', 'boundingRegions': [{'pageNumber': 1, 'polygon': [2.015, 4.005, 2.34, 4.005, 2.34, 4.23, 2.015, 4.23]}], 'confidence': 0.99, 'spans': [{'offset': 285, 'length': 2}]}, 'FirstName': {'type': 'string', 'valueString': 'James', 'content': 'James', 'boundingRegions': [{'pageNumber': 1, 'polygon': [2.01, 2.14, 2.495, 2.14, 2.495, 2.315, 2.01, 2.315]}], 'confidence': 0.995, 'spans': [{'offset': 86, 'length': 5}]}, 'LastName': {'type': 'string', 'valueString': 'Webb', 'content': 'Webb', 'boundingRegions': [{'pageNumber': 1, 'polygon': [2.55, 2.135, 3.015, 2.135, 3.015, 2.315, 2.55, 2.315]}], 'confidence': 0.995, 'spans': [{'offset': 92, 'length': 4}]}, 'From': {'type': 'string', 'valueString': 'San Francisco', 'content': 'San Francisco', 'boundingRegions': [{'pageNumber': 1, 'polygon': [2.605, 2.83, 3.7, 2.83, 3.7, 3.01, 2.605, 3.01]}], 'confidence': 0.99, 'spans': [{'offset': 153, 'length': 13}]}}\n",
      "Name: James Webb\n",
      "From San Francisco to Chicago\n",
      "Gate: G1\n",
      "Boarding Time: 10:00 AM PST\n",
      "FlightNo: 234\n",
      "SeatNo: 1A\n"
     ]
    }
   ],
   "execution_count": 21
  }
 ],
 "metadata": {
  "kernelspec": {
   "display_name": "Python 3 (ipykernel)",
   "language": "python",
   "name": "python3"
  },
  "language_info": {
   "codemirror_mode": {
    "name": "ipython",
    "version": 2
   },
   "file_extension": ".py",
   "mimetype": "text/x-python",
   "name": "python",
   "nbconvert_exporter": "python",
   "pygments_lexer": "ipython2",
   "version": "2.7.6"
  }
 },
 "nbformat": 4,
 "nbformat_minor": 5
}
